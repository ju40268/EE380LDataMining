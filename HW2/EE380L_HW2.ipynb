{
 "cells": [
  {
   "cell_type": "markdown",
   "metadata": {
    "ein.tags": "worksheet-0",
    "slideshow": {
     "slide_type": "-"
    }
   },
   "source": [
    "\n",
    "# <p style=\"text-align: center;\">EE 380L: Data Mining</p>\n",
    "# <p style=\"text-align: center;\">Assignment 2</p>\n",
    "## <p style=\"text-align: center;\">Total points: 72</p>\n",
    "## <p style=\"text-align: center;\">Due: Tuesday, February 22nd, submitted via Canvas by 11:59 pm</p>\n",
    "\n",
    "Your homework should be written in a **Jupyter notebook**. You may work in groups of two if you wish. Only one student per team needs to submit the assignment on Canvas.  But be sure to include name and UTID for both students.  Homework groups will be created and managed through Canvas, so please do not arbitrarily change your homework group.  \n",
    "\n",
    "Also, please make sure your code runs and the graphics (and anything else) are displayed in your notebook before submitting. (%matplotlib inline)"
   ]
  },
  {
   "cell_type": "markdown",
   "metadata": {
    "ein.tags": "worksheet-0",
    "slideshow": {
     "slide_type": "-"
    }
   },
   "source": [
    "# Question 1: Ridge and Lasso Regression (20 points)\n",
    "Use the following code to import the dow_jones dataset."
   ]
  },
  {
   "cell_type": "code",
   "execution_count": 1,
   "metadata": {
    "autoscroll": false,
    "collapsed": true,
    "ein.tags": "worksheet-0",
    "slideshow": {
     "slide_type": "-"
    }
   },
   "outputs": [],
   "source": [
    "% matplotlib inline\n",
    "\n",
    "import numpy as np\n",
    "import pandas as pd\n",
    "from sklearn import datasets, linear_model\n",
    "from sklearn.metrics import mean_squared_error\n",
    "\n",
    "from matplotlib import pyplot as plt"
   ]
  },
  {
   "cell_type": "code",
   "execution_count": 2,
   "metadata": {
    "autoscroll": false,
    "collapsed": true,
    "ein.tags": "worksheet-0",
    "slideshow": {
     "slide_type": "-"
    }
   },
   "outputs": [],
   "source": [
    "df = pd.read_csv('dow_jones_index.data')\n",
    "df = df.dropna()\n",
    "X = df[[u'open', u'high', u'low', u'close',\n",
    "       u'volume', u'percent_change_price',\n",
    "       u'percent_change_volume_over_last_wk', u'previous_weeks_volume', u'next_weeks_close',\n",
    "       u'percent_change_next_weeks_price', u'days_to_next_dividend',\n",
    "       u'percent_return_next_dividend']]\n",
    "X = X.as_matrix()\n",
    "\n",
    "for feat in range(X.shape[1]):\n",
    "    try:\n",
    "        if \"$\" in X[0, feat]:\n",
    "            X[:,feat] = [i.split(\"$\")[1] for i in X[:,feat]]\n",
    "    except:\n",
    "        pass\n",
    "X = X.astype('float')\n",
    "X = (X - np.mean(X, axis=0))/np.std(X, axis=0)\n",
    "\n",
    "y = df[[u'next_weeks_open']]\n",
    "y = y.as_matrix()\n",
    "y = [i.split(\"$\")[1] for i in y[:, 0]]\n",
    "y = np.array(y)\n",
    "y = y.astype('float')"
   ]
  },
  {
   "cell_type": "markdown",
   "metadata": {
    "ein.tags": "worksheet-0",
    "slideshow": {
     "slide_type": "-"
    }
   },
   "source": [
    "You will reuse the same dataset that you used in HW1. In this HW, you will add additional second-order polynomial and interaction variables to the features matrix. Note that this code adds all combinations of the features with degree less than or equal to two; in practice one may introduce only a few based on domain knowledge or experimentation."
   ]
  },
  {
   "cell_type": "code",
   "execution_count": 3,
   "metadata": {
    "autoscroll": false,
    "collapsed": true,
    "ein.tags": "worksheet-0",
    "slideshow": {
     "slide_type": "-"
    }
   },
   "outputs": [],
   "source": [
    "from sklearn.preprocessing import PolynomialFeatures\n",
    "X = PolynomialFeatures(2, include_bias=False).fit_transform(X)"
   ]
  },
  {
   "cell_type": "markdown",
   "metadata": {
    "ein.tags": "worksheet-0",
    "slideshow": {
     "slide_type": "-"
    }
   },
   "source": [
    "In this question, you will explore the application of Lasso and Ridge regression using sklearn package in Python. The following code will split the data into training and test set using [train_test_split](http://scikit-learn.org/stable/modules/generated/sklearn.model_selection.train_test_split.html) with **random state 20** and **test_size = 0.33**.  Note: lambda is called alpha in sklearn."
   ]
  },
  {
   "cell_type": "code",
   "execution_count": 4,
   "metadata": {
    "autoscroll": false,
    "collapsed": true,
    "ein.tags": "worksheet-0",
    "slideshow": {
     "slide_type": "-"
    }
   },
   "outputs": [],
   "source": [
    "from sklearn.model_selection import train_test_split\n",
    "X_train, X_test, y_train, y_test = train_test_split(X,y,test_size = 0.33, random_state=20)"
   ]
  },
  {
   "cell_type": "markdown",
   "metadata": {
    "ein.tags": "worksheet-0",
    "slideshow": {
     "slide_type": "-"
    }
   },
   "source": [
    "1) Use sklearn.linear_model.Lasso and sklearn.linear_model.Ridge classes to do a [5-fold cross validation](http://scikit-learn.org/stable/auto_examples/exercises/plot_cv_diabetes.html#example-exercises-plot-cv-diabetes-py) using sklearn's [KFold](http://scikit-learn.org/stable/modules/generated/sklearn.model_selection.KFold.html#sklearn.model_selection.KFold). For the sweep of the regularization parameter, we will look at a grid of values ranging from $\\lambda = 10^{6}$ to $\\lambda = 10^{-2}$. In Python, you can consider this range of values as follows:\n",
    "\n",
    "      import numpy as np\n",
    "\n",
    "      alphas =  10**np.linspace(6,-2,100)*0.5\n",
    "\n",
    "  Report the best chosen $\\lambda$ based on cross validation on each model. The cross validation should happen on your training data using  average MSE as the scoring metric. (5pts)\n",
    "\n",
    "2) Run ridge and lasso for all of the alphas specified above (on training data), and plot the coefficients learned for each of them - there should be one plot each for lasso and ridge, so a total of two plots; the plots for different features for a method should be on the same plot (e.g. Fig 6.6 of JW). What do you qualitatively observe when value of the regularization parameter is changed? What do you observe about the coefficients returned from the ridge and lasso models? (5pts)\n",
    "\n",
    "\n",
    "3) What are the top 10 most important features for the lasso and ridge models for the hyperparameters that got the best MSE? (2pts)\n",
    "\n",
    "\n",
    "4) SKLearn can perform this cross validation for us and choose the best regularization hyper-parameter. It will automatically determine the range of $\\lambda$ s to search over. Run lasso again with cross validation using [sklearn.linear_model.LassoCV](http://scikit-learn.org/stable/modules/generated/sklearn.linear_model.LassoCV.html). Set the cross validation parameters as follows:\n",
    "\n",
    "    LassoCV(alphas=None, cv=10, max_iter=10000)\n",
    "\n",
    "    Report the best $\\lambda$ based on cross validation. (3 pts)\n",
    "    \n",
    "5) \n",
    "    i) Run Ridge, lasso with the best hyperparameters and report the MSE on test data. \n",
    "    ii) Run OLS on the training data with all the features and then with the features selected through lasso (features with non zero weights). Report the MSE on test data. (5 pts)\n",
    "\n",
    "## Answer\n"
   ]
  },
  {
   "cell_type": "code",
   "execution_count": 7,
   "metadata": {},
   "outputs": [
    {
     "name": "stdout",
     "output_type": "stream",
     "text": [
      "Best lasso λ: 0.008737642000038414, Best MSE: 0.005\n",
      "Best ridge λ: 0.005, Best MSE: 0.005\n"
     ]
    }
   ],
   "source": [
    "from sklearn.cross_validation import KFold\n",
    "from sklearn.linear_model import Ridge, Lasso\n",
    "\n",
    "import numpy as np\n",
    "import matplotlib.pyplot as plt\n",
    "\n",
    "n_folds = 5\n",
    "k_fold = KFold(len(X_train), n_folds)\n",
    "alphas =  10**np.linspace(6,-2,100)*0.5\n",
    "lasso_avg_rmse = {}\n",
    "ridge_avg_rmse = {}\n",
    "\n",
    "for alpha in alphas:\n",
    "    lasso = Lasso(alpha=alpha, max_iter=1000)\n",
    "    avg_mse = 0\n",
    "    for k, (train, test) in enumerate(k_fold):\n",
    "        lasso.fit(X_train[train], y_train[train])\n",
    "        avg_mse = avg_mse + mean_squared_error(y_train[test], lasso.predict(X_train[test])) \n",
    "    lasso_avg_rmse[alpha] = avg_mse / n_folds\n",
    "best_alpha_lasso = min(lasso_avg_rmse, key=lasso_avg_rmse.get)\n",
    "print(\"Best lasso λ: {0}, Best MSE: {1}\".format(best_alpha_lasso, min(lasso_avg_rmse)))\n",
    "\n",
    "for alpha in alphas:\n",
    "    ridge = Ridge(alpha=alpha, max_iter=1000)\n",
    "    avg_mse = 0\n",
    "    for k, (train, test) in enumerate(k_fold):\n",
    "        ridge.fit(X_train[train], y_train[train])\n",
    "        avg_mse = avg_mse + mean_squared_error(y_train[test], ridge.predict(X_train[test])) \n",
    "    ridge_avg_rmse[alpha] = avg_mse / n_folds\n",
    "best_alpha_ridge = min(ridge_avg_rmse, key=ridge_avg_rmse.get)\n",
    "print(\"Best ridge λ: {0}, Best MSE: {1}\".format(best_alpha_ridge, min(ridge_avg_rmse)))"
   ]
  },
  {
   "cell_type": "markdown",
   "metadata": {},
   "source": [
    "As we can see above, the optimal alpha for Lasso is 0.005; and the optimal alpha for Ridge is 0.005."
   ]
  },
  {
   "cell_type": "code",
   "execution_count": 23,
   "metadata": {},
   "outputs": [
    {
     "data": {
      "image/png": "[encoded data removed]",
      "text/plain": [
       "<matplotlib.figure.Figure at 0x1250cf320>"
      ]
     },
     "metadata": {},
     "output_type": "display_data"
    },
    {
     "data": {
      "image/png": "[encoded data removed]",
      "text/plain": [
       "<matplotlib.figure.Figure at 0x1221d8ef0>"
      ]
     },
     "metadata": {},
     "output_type": "display_data"
    }
   ],
   "source": [
    "#2)\n",
    "cof_lasso, cof_ridge = [], []\n",
    "\n",
    "for a in alphas:\n",
    "    regression_lasson = Lasso(alpha = a)\n",
    "    regression_lasson.fit(X_train, y_train)\n",
    "    cof_lasso.append(regression_lasson.coef_)\n",
    "    \n",
    "    regression_ridge = Ridge(alpha = a)\n",
    "    regression_ridge.fit(X_train, y_train)\n",
    "    cof_ridge.append(regression_ridge.coef_)\n",
    "# semi-column surpress the unwanted output\n",
    "# https://stackoverflow.com/questions/25790062/how-to-hide-matplotlib-lines-line2d-in-ipython-notebook\n",
    "plt.figure().set_size_inches(8, 6);\n",
    "plt.semilogx(alphas, cof_lasso);\n",
    "plt.figure().set_size_inches(8, 6);\n",
    "plt.semilogx(alphas, cof_ridge);"
   ]
  },
  {
   "cell_type": "markdown",
   "metadata": {},
   "source": [
    "For both the Lasso and Ridge methods, the coefficients will become 0 when lambda is large enough. For the Lasso method, the coefficient becomes 0 earlier than the Ridge and can generate different models when $\\lambda$ is diffrent. But for the Ridge method, the change is more smooth and all the coefficients will become 0 when $\\lambda$ reaches a same value."
   ]
  },
  {
   "cell_type": "code",
   "execution_count": 112,
   "metadata": {
    "scrolled": false
   },
   "outputs": [
    {
     "name": "stdout",
     "output_type": "stream",
     "text": [
      " -------------- Lasso -----------\n",
      "index:  0    feature name:  open     weight:   28.4012191303\n",
      "index:  8    feature name:  next_weeks_close     weight:   3.85441096634\n",
      "index:  5    feature name:  percent_change_price     weight:   1.18539532599\n",
      "index:  28    feature name:  high percent_change_price     weight:   0.611858802042\n",
      "index:  1    feature name:  high     weight:   0.436928103707\n",
      "index:  17    feature name:  open percent_change_price     weight:   0.136023948367\n",
      "index:  3    feature name:  close     weight:   0.0823935323743\n",
      "index:  6    feature name:  percent_change_volume_over_last_wk     weight:   0.0230343353713\n",
      "index:  11    feature name:  percent_return_next_dividend     weight:   0.00981566193473\n",
      "index:  63    feature name:  percent_change_price percent_change_volume_over_last_wk     weight:   0.00237593840013\n",
      "############################################################\n",
      " -------------- Ridge -----------\n",
      "index:  8 feature name:  next_weeks_close weight:   29.6440509209\n",
      "index:  0 feature name:  open weight:   1.72760991947\n",
      "index:  3 feature name:  close weight:   1.72621161747\n",
      "index:  46 feature name:  close volume weight:   0.96458453443\n",
      "index:  49 feature name:  close previous_weeks_volume weight:   0.741990301318\n",
      "index:  53 feature name:  close percent_return_next_dividend weight:   0.37841323959\n",
      "index:  16 feature name:  open volume weight:   0.348841876175\n",
      "index:  18 feature name:  open percent_change_volume_over_last_wk weight:   0.272912264264\n",
      "index:  32 feature name:  high percent_change_next_weeks_price weight:   0.22193644543\n",
      "index:  34 feature name:  high percent_return_next_dividend weight:   0.21418947485\n"
     ]
    }
   ],
   "source": [
    "#3)\n",
    "\n",
    "# \n",
    "df = pd.read_csv('dow_jones_index.data')\n",
    "df = df.dropna()\n",
    "X = df[[u'open', u'high', u'low', u'close',\n",
    "       u'volume', u'percent_change_price',\n",
    "       u'percent_change_volume_over_last_wk', u'previous_weeks_volume', u'next_weeks_close',\n",
    "       u'percent_change_next_weeks_price', u'days_to_next_dividend',\n",
    "       u'percent_return_next_dividend']]\n",
    "X = X.as_matrix()\n",
    "\n",
    "\n",
    "names = [u'open', u'high', u'low', u'close',\n",
    "       u'volume', u'percent_change_price',\n",
    "       u'percent_change_volume_over_last_wk', u'previous_weeks_volume', u'next_weeks_close',\n",
    "       u'percent_change_next_weeks_price', u'days_to_next_dividend',\n",
    "       u'percent_return_next_dividend']\n",
    "\n",
    "for feat in range(X.shape[1]):\n",
    "    try:\n",
    "        if \"$\" in X[0, feat]:\n",
    "            X[:,feat] = [i.split(\"$\")[1] for i in X[:,feat]]\n",
    "    except:\n",
    "        pass\n",
    "X = X.astype('float')\n",
    "X = (X - np.mean(X, axis=0))/np.std(X, axis=0)\n",
    "\n",
    "y = df[[u'next_weeks_open']]\n",
    "y = y.as_matrix()\n",
    "y = [i.split(\"$\")[1] for i in y[:, 0]]\n",
    "y = np.array(y)\n",
    "y = y.astype('float')\n",
    "\n",
    "from sklearn.preprocessing import PolynomialFeatures\n",
    "feature_names_lasso = PolynomialFeatures(2, include_bias=False).fit(X).get_feature_names(names)\n",
    "X = PolynomialFeatures(2, include_bias=False).fit_transform(X)\n",
    "\n",
    "lasso = Lasso(alpha = 0.008)\n",
    "lasso.fit(X_train, y_train)\n",
    "# https://stackoverflow.com/questions/6910641/how-to-get-indices-of-n-maximum-values-in-a-numpy-array\n",
    "max_index = lasso.coef_.argsort()[-10:][::-1]\n",
    "\n",
    "print(\" -------------- Lasso -----------\")\n",
    "for i in max_index:\n",
    "    print('index: ', i, '   feature name: ', feature_names_lasso[i], '    weight:  ',lasso.coef_[i])\n",
    "#     print('index {0},   {1:.30},   {2:.10}'.format(i, feature_names_lasso[i], lasso.coef_[i]))\n",
    "    \n",
    "# ####################\n",
    "\n",
    "print('#' * 60)\n",
    "\n",
    "df = pd.read_csv('dow_jones_index.data')\n",
    "df = df.dropna()\n",
    "X = df[[u'open', u'high', u'low', u'close',\n",
    "       u'volume', u'percent_change_price',\n",
    "       u'percent_change_volume_over_last_wk', u'previous_weeks_volume', u'next_weeks_close',\n",
    "       u'percent_change_next_weeks_price', u'days_to_next_dividend',\n",
    "       u'percent_return_next_dividend']]\n",
    "X = X.as_matrix()\n",
    "\n",
    "for feat in range(X.shape[1]):\n",
    "    try:\n",
    "        if \"$\" in X[0, feat]:\n",
    "            X[:,feat] = [i.split(\"$\")[1] for i in X[:,feat]]\n",
    "    except:\n",
    "        pass\n",
    "X = X.astype('float')\n",
    "X = (X - np.mean(X, axis=0))/np.std(X, axis=0)\n",
    "\n",
    "y = df[[u'next_weeks_open']]\n",
    "y = y.as_matrix()\n",
    "y = [i.split(\"$\")[1] for i in y[:, 0]]\n",
    "y = np.array(y)\n",
    "y = y.astype('float')\n",
    "\n",
    "from sklearn.preprocessing import PolynomialFeatures\n",
    "feature_names_ridge = PolynomialFeatures(2, include_bias=False).fit(X).get_feature_names(names)\n",
    "X = PolynomialFeatures(2, include_bias=False).fit_transform(X)\n",
    "    \n",
    "ridge = Ridge(alpha= 0.005)\n",
    "ridge.fit(X_train, y_train)\n",
    "max_index = ridge.coef_.argsort()[-10:][::-1]\n",
    "print(\" -------------- Ridge -----------\")\n",
    "for i in max_index:\n",
    "    print('index: ', i, 'feature name: ', feature_names_ridge[i], 'weight:  ', ridge.coef_[i])"
   ]
  },
  {
   "cell_type": "code",
   "execution_count": 115,
   "metadata": {},
   "outputs": [
    {
     "name": "stdout",
     "output_type": "stream",
     "text": [
      "Best lambda:  0.0466112165952\n",
      "Coefficient:  [  0.00000000e+00   2.53525574e+00   2.16556032e+00   1.91278452e+01\n",
      "  -0.00000000e+00   5.39972624e-02   0.00000000e+00  -0.00000000e+00\n",
      "   9.06155486e+00  -3.72584773e-01  -0.00000000e+00   0.00000000e+00\n",
      "   0.00000000e+00   0.00000000e+00   0.00000000e+00   0.00000000e+00\n",
      "  -0.00000000e+00   0.00000000e+00   0.00000000e+00  -0.00000000e+00\n",
      "   0.00000000e+00  -0.00000000e+00   0.00000000e+00  -0.00000000e+00\n",
      "   0.00000000e+00   0.00000000e+00   0.00000000e+00  -0.00000000e+00\n",
      "   2.72372354e-02   0.00000000e+00  -0.00000000e+00   0.00000000e+00\n",
      "  -2.25561293e-01  -0.00000000e+00  -0.00000000e+00   0.00000000e+00\n",
      "   0.00000000e+00  -0.00000000e+00   0.00000000e+00   0.00000000e+00\n",
      "  -0.00000000e+00   0.00000000e+00  -0.00000000e+00  -0.00000000e+00\n",
      "  -0.00000000e+00   7.74405274e-04  -0.00000000e+00   0.00000000e+00\n",
      "   0.00000000e+00  -0.00000000e+00   0.00000000e+00  -1.06866344e-03\n",
      "  -0.00000000e+00  -0.00000000e+00  -0.00000000e+00  -0.00000000e+00\n",
      "  -0.00000000e+00  -0.00000000e+00  -0.00000000e+00   0.00000000e+00\n",
      "   0.00000000e+00   0.00000000e+00  -0.00000000e+00   0.00000000e+00\n",
      "  -0.00000000e+00   0.00000000e+00  -0.00000000e+00  -0.00000000e+00\n",
      "  -0.00000000e+00  -0.00000000e+00  -0.00000000e+00   0.00000000e+00\n",
      "  -0.00000000e+00   0.00000000e+00   0.00000000e+00  -0.00000000e+00\n",
      "  -0.00000000e+00   0.00000000e+00  -0.00000000e+00   0.00000000e+00\n",
      "   0.00000000e+00  -0.00000000e+00  -0.00000000e+00  -0.00000000e+00\n",
      "  -0.00000000e+00  -0.00000000e+00   0.00000000e+00  -0.00000000e+00\n",
      "  -0.00000000e+00  -0.00000000e+00]\n"
     ]
    }
   ],
   "source": [
    "# 4)\n",
    "from sklearn.linear_model import LassoCV\n",
    "lasso_cv = LassoCV(alphas=None, cv=10, max_iter=10000)\n",
    "regression_lasso = lasso_cv.fit(X_train, y_train)\n",
    "lambda_optimal = regression_lasso.alpha_\n",
    "coef = regression_lasso.coef_\n",
    "\n",
    "print(\"Best lambda: \", lambda_optimal)\n",
    "print(\"Coefficient: \", coef)"
   ]
  },
  {
   "cell_type": "code",
   "execution_count": 116,
   "metadata": {},
   "outputs": [
    {
     "name": "stdout",
     "output_type": "stream",
     "text": [
      "Lasso MSE: 0.159849159821\n",
      "Ridge MSE: 0.00193173303189\n"
     ]
    }
   ],
   "source": [
    "# 5 - (1))\n",
    "\n",
    "regression_lasso = Lasso(alpha= 0.0087)\n",
    "regression_lasso.fit(X_train, y_train)\n",
    "mse_lasso = np.mean((regression_lasso.predict(X_test) - y_test) ** 2)\n",
    "\n",
    "regression_ridge = Ridge(alpha= 0.005)\n",
    "regression_ridge.fit(X_train, y_train)\n",
    "mse_ridge = np.mean((regression_ridge.predict(X_test) - y_test) ** 2)\n",
    "\n",
    "print(\"Lasso MSE:\", mse_lasso)\n",
    "print(\"Ridge MSE:\", mse_ridge)"
   ]
  },
  {
   "cell_type": "code",
   "execution_count": 3,
   "metadata": {},
   "outputs": [
    {
     "name": "stdout",
     "output_type": "stream",
     "text": [
      "MSE for linear with all features: 0.0002554088434953395\n",
      "MSE for linear with selected features: 0.15441347946418985\n"
     ]
    }
   ],
   "source": [
    "from sklearn.linear_model import LinearRegression\n",
    "\n",
    "X_train_selected = X_train[:,lasso.coef_!=0]\n",
    "X_test_selected = X_test[:,lasso.coef_!=0]\n",
    "\n",
    "linear = LinearRegression()\n",
    "linear.fit(X_train, y_train)\n",
    "mse = mean_squared_error(y_test, linear.predict(X_test))\n",
    "print('MSE for linear with all features: {}'.format(mse))\n",
    "                         \n",
    "linear.fit(X_train_selected, y_train)\n",
    "mse = mean_squared_error(y_test, linear.predict(X_test_selected))\n",
    "print('MSE for linear with selected features: {}'.format(mse))"
   ]
  },
  {
   "cell_type": "markdown",
   "metadata": {
    "ein.tags": "worksheet-0",
    "slideshow": {
     "slide_type": "-"
    }
   },
   "source": [
    "# Question 2: Bias-Variance Tradeoff (5 points)\n",
    "\n",
    "1. Describe the relationship between Ordinary Least Squares and Ridge Regression (the problem analyzed in the previous question) with reference to Bias-Variance trade-off.\n",
    "3. Which is a higher variance model, kNN with k = 1 or with k = 10?"
   ]
  },
  {
   "cell_type": "markdown",
   "metadata": {},
   "source": [
    "1.When the number of samples n is far larger than the number of dimensionality p, least square yields lower bias. However, else if n is not sufficiently larger than p, least square can also bring higher variance, which will cause overfitting and poor predictions. Also considering the case when p > n, least square method cannot be used at all since the prediction is no longer reliable.\n",
    "\n",
    "\n",
    "2.kNN with k = 1 is a higher variance model, because it is only taking the nearest 1 point for clustering; on the other hand, k = 10 means that averaging over 10 nearest points, which will lead to more robust results."
   ]
  },
  {
   "cell_type": "markdown",
   "metadata": {
    "ein.tags": "worksheet-0",
    "slideshow": {
     "slide_type": "-"
    }
   },
   "source": [
    "# Question 3 - Principal Component Analysis (15 points)\n",
    "\n",
    "Import the same dataset with the interaction variables as in Q1."
   ]
  },
  {
   "cell_type": "code",
   "execution_count": 1,
   "metadata": {
    "autoscroll": false,
    "collapsed": true,
    "ein.tags": "worksheet-0",
    "slideshow": {
     "slide_type": "-"
    }
   },
   "outputs": [],
   "source": [
    "% matplotlib inline\n",
    "\n",
    "import numpy as np\n",
    "import pandas as pd\n",
    "from sklearn import datasets, linear_model\n",
    "from sklearn.metrics import mean_squared_error\n",
    "\n",
    "from matplotlib import pyplot as plt"
   ]
  },
  {
   "cell_type": "code",
   "execution_count": 2,
   "metadata": {
    "autoscroll": false,
    "collapsed": true,
    "ein.tags": "worksheet-0",
    "slideshow": {
     "slide_type": "-"
    }
   },
   "outputs": [],
   "source": [
    "df = pd.read_csv('dow_jones_index.data')\n",
    "df = df.dropna()\n",
    "X = df[[u'open', u'high', u'low', u'close',\n",
    "       u'volume', u'percent_change_price',\n",
    "       u'percent_change_volume_over_last_wk', u'previous_weeks_volume', u'next_weeks_close',\n",
    "       u'percent_change_next_weeks_price', u'days_to_next_dividend',\n",
    "       u'percent_return_next_dividend']]\n",
    "X = X.as_matrix()\n",
    "\n",
    "for feat in range(X.shape[1]):\n",
    "    try:\n",
    "        if \"$\" in X[0, feat]:\n",
    "            X[:,feat] = [i.split(\"$\")[1] for i in X[:,feat]]\n",
    "    except:\n",
    "        pass\n",
    "X = X.astype('float')\n",
    "X = (X - np.mean(X, axis=0))/np.std(X, axis=0)\n",
    "\n",
    "y = df[[u'next_weeks_open']]\n",
    "y = y.as_matrix()\n",
    "y = [i.split(\"$\")[1] for i in y[:, 0]]\n",
    "y = np.array(y)\n",
    "y = y.astype('float')"
   ]
  },
  {
   "cell_type": "code",
   "execution_count": 14,
   "metadata": {
    "autoscroll": false,
    "collapsed": true,
    "ein.tags": "worksheet-0",
    "slideshow": {
     "slide_type": "-"
    }
   },
   "outputs": [],
   "source": [
    "from sklearn.preprocessing import PolynomialFeatures\n",
    "X = PolynomialFeatures(2, include_bias=False).fit_transform(X)"
   ]
  },
  {
   "cell_type": "code",
   "execution_count": 44,
   "metadata": {
    "autoscroll": false,
    "ein.tags": "worksheet-0",
    "slideshow": {
     "slide_type": "-"
    }
   },
   "outputs": [
    {
     "data": {
      "image/png": "[encoded data removed]",
      "text/plain": [
       "<matplotlib.figure.Figure at 0x1c252c6d30>"
      ]
     },
     "metadata": {},
     "output_type": "display_data"
    },
    {
     "name": "stdout",
     "output_type": "stream",
     "text": [
      "Number of principal components to explain cumulative variance of 90%: 12\n",
      "Number of principal components to explain cumulative variance of 95%: 18\n",
      "Number of principal components to explain cumulative variance of 99%: 29\n"
     ]
    }
   ],
   "source": [
    "from sklearn.model_selection import train_test_split\n",
    "X_train, X_test, y_train, y_test = train_test_split(X,y,test_size = 0.33, random_state=20)\n",
    "\n",
    "from sklearn.decomposition import PCA\n",
    "pca = PCA()\n",
    "pca.fit(X_train)\n",
    "variance = pca.explained_variance_ratio_\n",
    "variance_plot, = plt.plot(variance, 'r', label='variance')\n",
    "\n",
    "cumulative_variance = []\n",
    "N1 = 0\n",
    "N2 = 0\n",
    "N3 = 0\n",
    "count = 0\n",
    "for item in variance:\n",
    "    count = count + 1\n",
    "    if len(cumulative_variance) == 0:\n",
    "        cumulative_variance.append(item)\n",
    "        continue\n",
    "    else:\n",
    "        cumulative_variance.append(item + cumulative_variance[-1])\n",
    "    if cumulative_variance[-1] >= 0.9 and cumulative_variance[-2] < 0.9:\n",
    "        N1 = count\n",
    "    if cumulative_variance[-1] >= 0.95 and cumulative_variance[-2] < 0.95:\n",
    "        N2 = count\n",
    "    if cumulative_variance[-1] >= 0.99 and cumulative_variance[-2] < 0.99:\n",
    "        N3 = count\n",
    "\n",
    "cumulative_variance_plot, = plt.plot(cumulative_variance, 'b', label = 'cumulative variance')\n",
    "plt.legend(handles=[variance_plot, cumulative_variance_plot])\n",
    "plt.xlabel('Principal Component')\n",
    "plt.ylabel('Proportion of Variance')\n",
    "plt.show()\n",
    "\n",
    "print(\"Number of principal components to explain cumulative variance of 90%: \" + str(N1))\n",
    "print(\"Number of principal components to explain cumulative variance of 95%: \" + str(N2))\n",
    "print(\"Number of principal components to explain cumulative variance of 99%: \" + str(N3))"
   ]
  },
  {
   "cell_type": "code",
   "execution_count": 45,
   "metadata": {},
   "outputs": [
    {
     "name": "stdout",
     "output_type": "stream",
     "text": [
      "MSE of X_text using N1 features from PCA: 145.469202378\n",
      "MSE of X_text using N2 features from PCA: 27.7258861025\n",
      "MSE of X_text using N3 features from PCA: 3.19815659743\n",
      "MSE of X_text using all features from PCA: 0.000255408950307\n"
     ]
    }
   ],
   "source": [
    "import statsmodels.api as sm\n",
    "\n",
    "X_train_pca = pca.transform(X_train)\n",
    "\n",
    "X_train_90 = sm.add_constant(X_train_pca[:,:12])\n",
    "X_train_95 = sm.add_constant(X_train_pca[:,:18])\n",
    "X_train_99 = sm.add_constant(X_train_pca[:,:29])\n",
    "X_train_pca = sm.add_constant(X_train_pca)\n",
    "\n",
    "model_ols = sm.OLS(y_train, X_train_pca).fit()\n",
    "model_ols_90 = sm.OLS(y_train, X_train_90).fit()\n",
    "model_ols_95 = sm.OLS(y_train, X_train_95).fit()\n",
    "model_ols_99 = sm.OLS(y_train, X_train_99).fit()\n",
    "\n",
    "X_test_pca = pca.transform(X_test)\n",
    "X_test_90 = sm.add_constant(X_test_pca[:,:12])\n",
    "X_test_95 = sm.add_constant(X_test_pca[:,:18])\n",
    "X_test_99 = sm.add_constant(X_test_pca[:,:29])\n",
    "X_test_pca = sm.add_constant(X_test_pca)\n",
    "\n",
    "mse = np.mean((model_ols.predict(X_test_pca) - y_test) ** 2)\n",
    "mse_90 = np.mean((model_ols_90.predict(X_test_90) - y_test) ** 2)\n",
    "mse_95 = np.mean((model_ols_95.predict(X_test_95) - y_test) ** 2)\n",
    "mse_99 = np.mean((model_ols_99.predict(X_test_99) - y_test) ** 2)\n",
    "\n",
    "print(\"MSE of X_text using N1 features from PCA: \" + str(mse_90))\n",
    "print(\"MSE of X_text using N2 features from PCA: \" + str(mse_95))\n",
    "print(\"MSE of X_text using N3 features from PCA: \" + str(mse_99))\n",
    "print(\"MSE of X_text using all features from PCA: \" + str(mse))"
   ]
  },
  {
   "cell_type": "markdown",
   "metadata": {},
   "source": [
    "By comparison, it is easy to find that with more principal components, the MSE of test data will be smaller.  \n",
    "  \n"
   ]
  },
  {
   "cell_type": "markdown",
   "metadata": {
    "ein.tags": "worksheet-0",
    "slideshow": {
     "slide_type": "-"
    }
   },
   "source": [
    "(a) Perform PCA using the sklearn [PCA](http://scikit-learn.org/stable/modules/generated/sklearn.decomposition.PCA.html) package.  Create i) a scree plot depicting the proportion of variance and ii) a cumulative proportion of variance explained by the principal components of the data (X_train matrix).  Refer to Figure 10.4 of JW for an example.  You may use the output attribute *explained variance ratio*. How many principal components (N1, N2, N3) are required to explain cumulative variance of 90%, 95%, and 99%, respectively? (6 pts)\n",
    "\n",
    "(c) Fit an ordinary least squares linear regression using N1, N2, and N3 number of principal components, respectively. Fit PCA on X_train and predict on X_test. Compare the test MSE using N1, N2, N3 to using all features from PCA (6 pts)\n",
    "\n",
    "(d) Compare this to the MSE reported in Q1.For this dataset, would you use PCA/Lasso as a feature elimination technique based on: (3 pts)\n",
    "i) Interpretability of results\n",
    "ii) MSE value\n",
    "iii) Hyperparameter tuning?\n",
    "\n",
    "## Answer\n",
    "(a)  \n",
    "Answer is shown above.  \n",
    "(b)  \n",
    "Answer is shown above.  \n",
    "(c)  \n",
    "i) Based on interpretability of results, I would use Lasso as a feature elimination technique. PCA is actually doing projection, after which features will be hard to be interpreted and with no practical meanings.  \n",
    "ii) Based on MSE value, I would use PCA as a feature elimination technique, since the MSE of PCA is much smaller than that of Lasso.  \n",
    "iii) Based on Hyperparameter tuning, I would use PCA as a feature elimination technique. PCA does not need to find the best parameters for training model by cross validation. However, Lasso with KFolds does."
   ]
  },
  {
   "cell_type": "markdown",
   "metadata": {
    "ein.tags": "worksheet-0",
    "slideshow": {
     "slide_type": "-"
    }
   },
   "source": [
    "# Question 4 - Sampling (3+2=5pts)\n",
    "\n",
    "1 . Your firm is conducting a customer survey for a new product. You are tasked with estimating whether the product will be liked or disliked by the entire market. Unfortunately, you cannot reach all the customers. So you randomly sample 400 participants and ask them \"Will you like the product\" as a question. The responses are evenly split. But you attended a Data Mining course, so you know the estimate is not simply 50%. \n",
    "   \n",
    "What are the lower and upper bounds of probability corresponding to a confidence of 99% ($\\alpha = 0.99$)?\n",
    "\n",
    "\n",
    "2 . Your manager asks you to halve the probability range you reported in part 1. This can be accomplished in two different ways:\n",
    "\n",
    "    a) Reduce the confidence without going below 90%. \n",
    "    OR\n",
    "    b) Conduct a new survey to acquire more samples. In this case let us assume that the results are again evenly split.\n",
    "    \n",
    "Which option is viable? If a), what is the highest confidence you can use? And if b), how many samples do you need?\n",
    "\n",
    "## Answer\n",
    "\n",
    "1.  \n",
    "For each participant, his/her answer takes a Bernoulli Distribution. Its mean is $\\hat{p}$, where $\\hat{p}$ is $0.5$ here. Its variance is $\\sigma^{2} = \\frac{\\hat{p}(1-\\hat{p})}{m}$, where m is sample number, which is 400 here. And thus, $\\sigma = \\frac{1}{40}$.  \n",
    "When $\\alpha = 0.99$, the upper bound of probability should be:  \n",
    "$$\n",
    "\\begin{align}\n",
    "& 0.5 + 2.58\\sigma \\\\\n",
    "= \\ & 0.5 + 0.0645 \\\\\n",
    "= \\ & 0.5645\n",
    "\\end{align}\n",
    "$$\n",
    "Similarly, the lower bound of probability should be:  \n",
    "$$\n",
    "\\begin{align}\n",
    "& 0.5 - 2.58\\sigma \\\\\n",
    "= \\ & 0.5 - 0.0645 \\\\\n",
    "= \\ & 0.4355\n",
    "\\end{align}\n",
    "\\\\\n",
    "$$\n",
    "  \n",
    "2.  \n",
    "Option b) is viable, since option a) actually does nothing and won't improve the accuracy of our estimation. For option b), the required sample number to halve the probability range should be:  \n",
    "$$\n",
    "\\begin{align}\n",
    "& 0.5 \\times (1-0.5) \\times (\\frac{2.58}{\\frac{0.0645}{2}})^2 \\\\\n",
    "= \\ & 1600\n",
    "\\end{align}\n",
    "$$"
   ]
  },
  {
   "cell_type": "markdown",
   "metadata": {
    "ein.tags": "worksheet-0",
    "slideshow": {
     "slide_type": "-"
    }
   },
   "source": [
    "# Question 5: Ridge and Lasso Regression (15 points)\n",
    "The ridge regression problem is characterized by the following loss function:\n",
    "$$\\mathcal{L}(\\beta) = ||X \\beta - y||_2^2 + \\lambda ||\\beta||^2_2$$\n",
    "\n",
    "The ridge regression problem is the case where the penalty term ($\\lambda ||\\beta||$) uses the squared l-2 norm ($\\lambda ||\\beta||^2$).\n",
    "\n",
    "a) Find the closed form solution to the ridge regresion problem\n",
    "$$\\underset{\\beta}{\\mathrm{argmin}} \\mathcal{L}(\\beta)$$\n",
    "where $\\mathcal{L}(\\beta)$ is the loss function above.\n",
    "\n",
    "b) Now given the SVD of $X$ as $U \\Sigma V^T$, express $X \\hat \\beta_{ridge}$ in terms of $U$, $V$ and $\\Sigma$\n",
    "\n",
    "c) Explain what the expression for $X \\hat \\beta_{ridge}$ derived above tells us about how the addition of the regularization term affects the solution. (Hint: think about $\\lambda ||\\beta||^2$ as a penalty term)\n",
    "\n",
    "# Answer\n",
    "a)  \n",
    "The closed form solution to the ridge regression problem above is:  \n",
    "$$\n",
    "\\begin{align}\n",
    "\\underset{\\beta}{\\mathrm{argmin}} \\mathcal{L}(\\beta) & \\ =  \\ \\hat \\beta_{ridge}\\\\\n",
    "& \\ = \\ (\\lambda I + X^T X)^{-1}X^T y\n",
    "\\end{align}\n",
    "\\\\\n",
    "$$\n",
    "b)  \n",
    "Given the SVD of $X$ as $U \\Sigma V^T$,  $X \\hat \\beta_{ridge}$ can be expressed as below:  \n",
    "$$\n",
    "\\begin{align}\n",
    "X \\hat \\beta_{ridge} & \\ = \\ U \\Sigma V^T (\\lambda I + V \\Sigma^T U^T U \\Sigma V^T)^{-1} V \\Sigma^T U^T y \\\\\n",
    "& \\ = \\ U \\Sigma V^T (\\lambda I + V \\Sigma^2 V^T)^{-1} V \\Sigma^T U^T y \\\\\n",
    "& \\ = \\ U \\Sigma V^T ([V (\\lambda I + \\Sigma^2) V^T])^{-1} V \\Sigma^T U^T y \\\\\n",
    "& \\ = \\ U \\Sigma V^T V (\\lambda I + \\Sigma^2)^{-1} V^{-1} V \\Sigma^T U^T y \\\\\n",
    "& \\ = \\ U \\Sigma (\\lambda I + \\Sigma^2)^{-1} \\Sigma^T U^T y \\\\\n",
    "& \\ = \\ U \\Sigma (\\lambda I + \\Sigma^2)^{-1} (U \\Sigma)^T y \\\\\n",
    "\\end{align}\n",
    "\\\\\n",
    "$$\n",
    "c)  \n",
    "According to the expression above, $\\hat{y} \\ =  \\sum_{j=1}^{p} u_j \\frac{\\sigma^2_j}{\\sigma^2_j + \\lambda} u_j^T y$, where $u_j$ is the $j^{th}$ normalized principal components of $X$, $\\sigma_{j}$ is the $j^{th}$ singular value of $X$. The shrinkage factor given by ridge regression here is:  \n",
    "$$\n",
    "\\frac{\\sigma^2_j}{\\sigma^2_j + \\lambda}\n",
    "$$\n",
    "Since for any $\\lambda > 0$, the value of expression above will be smaller than that when $\\lambda = 0$, the addition of the regularization term $\\lambda$ will actually affect the solution by shrinking the singular values. So, when $\\lambda$ grows, the regression curve will be compressed to some extent.\n"
   ]
  },
  {
   "cell_type": "markdown",
   "metadata": {
    "ein.tags": "worksheet-0",
    "slideshow": {
     "slide_type": "-"
    }
   },
   "source": [
    "# Question 6 - Outliers and Huber Loss (12 pts)\n",
    "\n",
    "In this problem, we will use the same data set from the previous problem set to fit a linear model to the data using a Huber loss function rather than the l-2 norm usually used in OLS. sklearn has a nice API you can use: [http://scikit-learn.org/stable/modules/generated/sklearn.linear_model.HuberRegressor.html#sklearn-linear-model-huberregressor](http://scikit-learn.org/stable/modules/generated/sklearn.linear_model.HuberRegressor.html#sklearn-linear-model-huberregressor)\n",
    "\n",
    "Below is a snippet from the previous problem set to help you get started. For this problem, the only independent variable will be the \"percent\\_change\\_price\" feature.\n"
   ]
  },
  {
   "cell_type": "code",
   "execution_count": 46,
   "metadata": {
    "autoscroll": false,
    "ein.tags": "worksheet-0",
    "slideshow": {
     "slide_type": "-"
    }
   },
   "outputs": [
    {
     "name": "stdout",
     "output_type": "stream",
     "text": [
      "MSE train:  953.538042823\n",
      "MSE test:  1192.17336874\n"
     ]
    }
   ],
   "source": [
    "import pandas as pd\n",
    "import numpy as np\n",
    "from sklearn import linear_model\n",
    "from sklearn.metrics import mean_squared_error\n",
    "\n",
    "df = pd.read_csv('dow_jones_index.data')\n",
    "stock = df[[\"percent_change_price\", \"next_weeks_open\"]]\n",
    "stock = stock.dropna()\n",
    "stock = stock.as_matrix()[1:]\n",
    "stock[:, 1] = [i.split(\"$\")[1] for i in stock[:, 1]]\n",
    "stock = stock.astype('float')\n",
    "stock[:, 0] = (stock[:, 0] - np.mean(stock[:, 0], axis=0))/np.std(stock[:, 0], axis=0)\n",
    "\n",
    "X = stock[:,:1]\n",
    "y = stock[:, 1]\n",
    "X_train = X[:400,]\n",
    "y_train = y[:400]\n",
    "\n",
    "X_test = X[400:,]\n",
    "y_test = y[400:,]\n",
    "\n",
    "clf_train = linear_model.LinearRegression()\n",
    "clf_train.fit(X_train, y_train)\n",
    "predictions_train = clf_train.predict(X_train)\n",
    "mse_train = mean_squared_error(y_train, predictions_train)\n",
    "print('MSE train: ', mse_train)\n",
    "\n",
    "predictions_test = clf_train.predict(X_test)\n",
    "mse_test = mean_squared_error(y_test, predictions_test)\n",
    "print('MSE test: ', mse_test)"
   ]
  },
  {
   "cell_type": "markdown",
   "metadata": {
    "ein.tags": "worksheet-0",
    "slideshow": {
     "slide_type": "-"
    }
   },
   "source": [
    "a) Now do the same for the Huber loss function and print the test and train MSE. Use a regularization coefficient of 0. (5 pts)"
   ]
  },
  {
   "cell_type": "code",
   "execution_count": 47,
   "metadata": {
    "autoscroll": false,
    "ein.tags": "worksheet-0",
    "slideshow": {
     "slide_type": "-"
    }
   },
   "outputs": [
    {
     "name": "stdout",
     "output_type": "stream",
     "text": [
      "MSE train:  969.075119932\n",
      "MSE test:  1235.96980953\n"
     ]
    }
   ],
   "source": [
    "# ANSWER\n",
    "\n",
    "import pandas as pd\n",
    "import numpy as np\n",
    "from sklearn import linear_model\n",
    "from sklearn.metrics import mean_squared_error\n",
    "\n",
    "df = pd.read_csv('dow_jones_index.data')\n",
    "stock = df[[\"percent_change_price\", \"next_weeks_open\"]]\n",
    "stock = stock.dropna()\n",
    "stock = stock.as_matrix()[1:]\n",
    "stock[:, 1] = [i.split(\"$\")[1] for i in stock[:, 1]]\n",
    "stock = stock.astype('float')\n",
    "stock[:, 0] = (stock[:, 0] - np.mean(stock[:, 0], axis=0))/np.std(stock[:, 0], axis=0)\n",
    "\n",
    "X = stock[:,:1]\n",
    "y = stock[:, 1]\n",
    "X_train = X[:400,]\n",
    "y_train = y[:400]\n",
    "\n",
    "X_test = X[400:,]\n",
    "y_test = y[400:,]\n",
    "\n",
    "clf_train = linear_model.HuberRegressor()\n",
    "clf_train.fit(X_train, y_train)\n",
    "predictions_train = clf_train.predict(X_train)\n",
    "mse_train = mean_squared_error(y_train, predictions_train)\n",
    "print('MSE train: ', mse_train)\n",
    "\n",
    "predictions_test = clf_train.predict(X_test)\n",
    "mse_test = mean_squared_error(y_test, predictions_test)\n",
    "print('MSE test: ', mse_test)"
   ]
  },
  {
   "cell_type": "markdown",
   "metadata": {
    "ein.tags": "worksheet-0",
    "slideshow": {
     "slide_type": "-"
    }
   },
   "source": [
    "Now let's artificially introduce some errors intro the train set:"
   ]
  },
  {
   "cell_type": "code",
   "execution_count": null,
   "metadata": {
    "autoscroll": false,
    "collapsed": true,
    "ein.tags": "worksheet-0",
    "slideshow": {
     "slide_type": "-"
    }
   },
   "outputs": [],
   "source": [
    "y_train_outliers = np.copy(y_train)\n",
    "y_train_outliers[0] = 10000.0"
   ]
  },
  {
   "cell_type": "markdown",
   "metadata": {
    "ein.tags": "worksheet-0",
    "slideshow": {
     "slide_type": "-"
    }
   },
   "source": [
    "Note that we would never actually do this in a real application, this is simply for demo purposes.\n",
    "\n",
    "b) Now create two models as before, but using the new y vector during training (one model using OLS and another using the Huber loss). Print the test and train MSE. Use a regularization coefficient of 0. (5 pts)"
   ]
  },
  {
   "cell_type": "code",
   "execution_count": 48,
   "metadata": {
    "autoscroll": false,
    "ein.tags": "worksheet-0",
    "slideshow": {
     "slide_type": "-"
    }
   },
   "outputs": [
    {
     "name": "stdout",
     "output_type": "stream",
     "text": [
      "(OLS) MSE train:  246073.324779\n",
      "(OLS) MSE test:  3570.05063993\n",
      "(Huber loss) MSE train:  248826.748391\n",
      "(Huber loss) MSE test:  1232.54690548\n"
     ]
    }
   ],
   "source": [
    "# ANSWER\n",
    "\n",
    "import pandas as pd\n",
    "import numpy as np\n",
    "from sklearn import linear_model\n",
    "from sklearn.metrics import mean_squared_error\n",
    "\n",
    "df = pd.read_csv('dow_jones_index.data')\n",
    "stock = df[[\"percent_change_price\", \"next_weeks_open\"]]\n",
    "stock = stock.dropna()\n",
    "stock = stock.as_matrix()[1:]\n",
    "stock[:, 1] = [i.split(\"$\")[1] for i in stock[:, 1]]\n",
    "stock = stock.astype('float')\n",
    "stock[:, 0] = (stock[:, 0] - np.mean(stock[:, 0], axis=0))/np.std(stock[:, 0], axis=0)\n",
    "\n",
    "X = stock[:,:1]\n",
    "y = stock[:, 1]\n",
    "X_train = X[:400,]\n",
    "y_train = y[:400]\n",
    "\n",
    "X_test = X[400:,]\n",
    "y_test = y[400:,]\n",
    "\n",
    "y_train_outliers = np.copy(y_train)\n",
    "y_train_outliers[0] = 10000.0\n",
    "\n",
    "clf_train = linear_model.LinearRegression()\n",
    "clf_train.fit(X_train, y_train_outliers)\n",
    "predictions_train = clf_train.predict(X_train)\n",
    "mse_train = mean_squared_error(y_train_outliers, predictions_train)\n",
    "print('(OLS) MSE train: ', mse_train)\n",
    "\n",
    "predictions_test = clf_train.predict(X_test)\n",
    "mse_test = mean_squared_error(y_test, predictions_test)\n",
    "print('(OLS) MSE test: ', mse_test)\n",
    "\n",
    "clf_train_huber = linear_model.HuberRegressor()\n",
    "clf_train_huber.fit(X_train, y_train_outliers)\n",
    "predictions_train = clf_train_huber.predict(X_train)\n",
    "mse_train = mean_squared_error(y_train_outliers, predictions_train)\n",
    "print('(Huber loss) MSE train: ', mse_train)\n",
    "\n",
    "predictions_test = clf_train_huber.predict(X_test)\n",
    "mse_test = mean_squared_error(y_test, predictions_test)\n",
    "print('(Huber loss) MSE test: ', mse_test)"
   ]
  },
  {
   "cell_type": "markdown",
   "metadata": {
    "ein.tags": "worksheet-0",
    "slideshow": {
     "slide_type": "-"
    }
   },
   "source": [
    "c) Explain the difference in prediction performance of the two models in these two scenarios (one without significant outliers in the data, and the other with a single outlier). (2 pts)\n",
    "\n",
    "Answer:  \n",
    "Both the MSE of training datasets of the two models are high. However, when using Huber loss, the MSE of test dataset is much less than that when using OLS. And it alomost keeps the same with the one when there is no significant outliers. The reason is that, Huber loss helps build robust regression. It adopts linear penalty for large residuals, and thus, when there is a significant outlier, its effects on the coefficients of prediction model will be much less than OLS's. In this way, the model can still be accurate. "
   ]
  }
 ],
 "metadata": {
  "kernelspec": {
   "display_name": "Python 3",
   "language": "python",
   "name": "python3"
  },
  "language_info": {
   "codemirror_mode": {
    "name": "ipython",
    "version": 3
   },
   "file_extension": ".py",
   "mimetype": "text/x-python",
   "name": "python",
   "nbconvert_exporter": "python",
   "pygments_lexer": "ipython3",
   "version": "3.6.1"
  },
  "name": "EE380L_HW2.ipynb"
 },
 "nbformat": 4,
 "nbformat_minor": 1
}
