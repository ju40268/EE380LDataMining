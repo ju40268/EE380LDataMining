{
 "cells": [
  {
   "cell_type": "code",
   "execution_count": 17,
   "metadata": {},
   "outputs": [],
   "source": [
    "%matplotlib inline \n",
    "\n",
    "import warnings\n",
    "warnings.filterwarnings('ignore')\n",
    "\n",
    "import numpy as np\n",
    "import pandas as pd\n",
    "import matplotlib.pyplot as plt\n",
    "\n",
    "allData = pd.read_csv('./data.csv', encoding='utf-8-sig')\n",
    "data = allData[allData['shot_made_flag'].notnull()].reset_index()\n",
    "\n",
    "# data.set_index('shot_id', inplace=True)\n",
    "data[\"action_type\"] = data[\"action_type\"].astype('object')\n",
    "data[\"combined_shot_type\"] = data[\"combined_shot_type\"].astype('category')\n",
    "data[\"game_event_id\"] = data[\"game_event_id\"].astype('category')\n",
    "data[\"game_id\"] = data[\"game_id\"].astype('category')\n",
    "data[\"period\"] = data[\"period\"].astype('object')\n",
    "data[\"playoffs\"] = data[\"playoffs\"].astype('category')\n",
    "data[\"season\"] = data[\"season\"].astype('category')\n",
    "data[\"shot_made_flag\"] = data[\"shot_made_flag\"].astype('category')\n",
    "data[\"shot_type\"] = data[\"shot_type\"].astype('category')\n",
    "data[\"team_id\"] = data[\"team_id\"].astype('category')\n",
    "\n",
    "# y = list(data['loc_y'])\n",
    "# print(y)\n",
    "# aggreg_action = data['action_type'].value_counts()\n",
    "# attr, count = [], []\n",
    "# for a, c in aggreg_action.items():\n",
    "#     attr.append(a)\n",
    "#     count.append(c)\n",
    "# top_10 = attr[:3]\n",
    "# # print(count[:10])\n",
    "# overall_location = []\n",
    "# for name, group in data.groupby(['action_type']):\n",
    "#     coor = group[['loc_x', 'loc_y']]\n",
    "#     current = []\n",
    "#     x, y = [], []\n",
    "#     for index, row in coor.iterrows():\n",
    "#         x.append(row['loc_x'])\n",
    "#         y.append(row['loc_y'])\n",
    "#     current.append(name.replace(\" \", \"_\"))\n",
    "#     current.append(x)\n",
    "#     current.append(y)\n",
    "#     overall_location.append(current)\n",
    "# sort_location = sorted(overall_location, key=lambda x: len(x[1]), reverse=True)\n",
    "# print(sort_location[:5])\n",
    "# import json\n",
    "# with open('coor.json', 'w') as outfile:\n",
    "#     json.dump(overall_location, outfile)\n",
    "\n"
   ]
  },
  {
   "cell_type": "code",
   "execution_count": null,
   "metadata": {},
   "outputs": [],
   "source": [
    "# import requests\n",
    "# import json\n",
    "# import pandas as pd\n",
    "\n",
    "# request_headers = {\n",
    "#     'Accept': 'text/html,application/xhtml+xml,application/xml;q=0.9,image/webp,image/apng,*/*;q=0.8',\n",
    "#     'Accept-Encoding': 'gzip, deflate',\n",
    "#     'Accept-Language': 'en-US,en;q=0.8',\n",
    "#     'Connection': 'keep-alive',\n",
    "#     'Host': 'stats.nba.com',\n",
    "#     'Upgrade-Insecure-Requests': '1',\n",
    "#     'User-Agent': 'Mozilla/5.0 (Windows NT 10.0; Win64; x64) AppleWebKit/537.36 (KHTML, like Gecko) Chrome/61.0.3163.100 Safari/537.36'\n",
    "# }\n",
    "# url = 'http://stats.nba.com/stats/commonteamroster?LeagueID=00&Season=2017-18&TeamID=1610612756'\n",
    "# response = requests.get(url, headers = request_headers)\n",
    "# print(response.json())\n"
   ]
  },
  {
   "cell_type": "code",
   "execution_count": null,
   "metadata": {},
   "outputs": [],
   "source": []
  }
 ],
 "metadata": {
  "kernelspec": {
   "display_name": "Python 3",
   "language": "python",
   "name": "python3"
  },
  "language_info": {
   "codemirror_mode": {
    "name": "ipython",
    "version": 3
   },
   "file_extension": ".py",
   "mimetype": "text/x-python",
   "name": "python",
   "nbconvert_exporter": "python",
   "pygments_lexer": "ipython3",
   "version": "3.6.4"
  }
 },
 "nbformat": 4,
 "nbformat_minor": 2
}
