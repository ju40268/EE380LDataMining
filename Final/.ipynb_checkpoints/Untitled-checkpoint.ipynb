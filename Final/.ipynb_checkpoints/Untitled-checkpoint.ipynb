{
 "cells": [
  {
   "cell_type": "code",
   "execution_count": 5,
   "metadata": {},
   "outputs": [
    {
     "name": "stdout",
     "output_type": "stream",
     "text": [
      "['Jump Shot' 'Driving Dunk Shot' 'Layup Shot' 'Running Jump Shot'\n",
      " 'Driving Layup Shot' 'Reverse Layup Shot' 'Reverse Dunk Shot'\n",
      " 'Slam Dunk Shot' 'Turnaround Jump Shot' 'Tip Shot' 'Running Hook Shot'\n",
      " 'Alley Oop Dunk Shot' 'Dunk Shot' 'Alley Oop Layup shot'\n",
      " 'Running Dunk Shot' 'Driving Finger Roll Shot' 'Running Layup Shot'\n",
      " 'Finger Roll Shot' 'Fadeaway Jump Shot' 'Follow Up Dunk Shot' 'Hook Shot'\n",
      " 'Turnaround Hook Shot' 'Running Tip Shot' 'Jump Hook Shot'\n",
      " 'Running Finger Roll Shot' 'Jump Bank Shot' 'Turnaround Finger Roll Shot'\n",
      " 'Hook Bank Shot' 'Driving Hook Shot' 'Running Reverse Layup Shot'\n",
      " 'Driving Finger Roll Layup Shot' 'Fadeaway Bank shot' 'Pullup Jump shot'\n",
      " 'Finger Roll Layup Shot' 'Turnaround Fadeaway shot'\n",
      " 'Driving Reverse Layup Shot' 'Driving Slam Dunk Shot'\n",
      " 'Step Back Jump shot' 'Reverse Slam Dunk Shot' 'Turnaround Bank shot'\n",
      " 'Running Finger Roll Layup Shot' 'Floating Jump shot'\n",
      " 'Putback Slam Dunk Shot' 'Running Bank shot' 'Driving Bank shot'\n",
      " 'Putback Layup Shot' 'Driving Jump shot' 'Putback Dunk Shot'\n",
      " 'Pullup Bank shot' 'Running Slam Dunk Shot' 'Cutting Layup Shot'\n",
      " 'Driving Floating Jump Shot' 'Running Pull-Up Jump Shot' 'Tip Layup Shot'\n",
      " 'Driving Floating Bank Jump Shot' 'Turnaround Fadeaway Bank Jump Shot'\n",
      " 'Cutting Finger Roll Layup Shot']\n"
     ]
    }
   ],
   "source": [
    "%matplotlib inline \n",
    "\n",
    "import warnings\n",
    "warnings.filterwarnings('ignore')\n",
    "\n",
    "import numpy as np\n",
    "import pandas as pd\n",
    "import matplotlib.pyplot as plt\n",
    "\n",
    "data = pd.read_csv('./data.csv', encoding='utf-8-sig')\n",
    "\n",
    "# data.set_index('shot_id', inplace=True)\n",
    "data[\"action_type\"] = data[\"action_type\"].astype('object')\n",
    "data[\"combined_shot_type\"] = data[\"combined_shot_type\"].astype('category')\n",
    "data[\"game_event_id\"] = data[\"game_event_id\"].astype('category')\n",
    "data[\"game_id\"] = data[\"game_id\"].astype('category')\n",
    "data[\"period\"] = data[\"period\"].astype('object')\n",
    "data[\"playoffs\"] = data[\"playoffs\"].astype('category')\n",
    "data[\"season\"] = data[\"season\"].astype('category')\n",
    "data[\"shot_made_flag\"] = data[\"shot_made_flag\"].astype('category')\n",
    "data[\"shot_type\"] = data[\"shot_type\"].astype('category')\n",
    "data[\"team_id\"] = data[\"team_id\"].astype('category')\n",
    "\n",
    "# y = list(data['loc_y'])\n",
    "# print(y)\n",
    "# aggreg_action = data['action_type'].value_counts()\n",
    "# attr, count = [], []\n",
    "# for a, c in aggreg_action.items():\n",
    "#     attr.append(a)\n",
    "#     count.append(c)\n",
    "# print(attr[:10])\n",
    "# print(count[:10])\n",
    "\n",
    "unique_action = data['action_type'].unique()\n",
    "print(data.groupby(['Jump Shot']))"
   ]
  },
  {
   "cell_type": "code",
   "execution_count": null,
   "metadata": {},
   "outputs": [],
   "source": [
    "import requests\n",
    "import json\n",
    "import pandas as pd\n",
    "\n",
    "request_headers = {\n",
    "    'Accept': 'text/html,application/xhtml+xml,application/xml;q=0.9,image/webp,image/apng,*/*;q=0.8',\n",
    "    'Accept-Encoding': 'gzip, deflate',\n",
    "    'Accept-Language': 'en-US,en;q=0.8',\n",
    "    'Connection': 'keep-alive',\n",
    "    'Host': 'stats.nba.com',\n",
    "    'Upgrade-Insecure-Requests': '1',\n",
    "    'User-Agent': 'Mozilla/5.0 (Windows NT 10.0; Win64; x64) AppleWebKit/537.36 (KHTML, like Gecko) Chrome/61.0.3163.100 Safari/537.36'\n",
    "}\n",
    "url = 'http://stats.nba.com/stats/commonteamroster?LeagueID=00&Season=2017-18&TeamID=1610612756'\n",
    "response = requests.get(url, headers = request_headers)\n",
    "print(response.json())\n"
   ]
  },
  {
   "cell_type": "code",
   "execution_count": null,
   "metadata": {},
   "outputs": [],
   "source": []
  }
 ],
 "metadata": {
  "kernelspec": {
   "display_name": "Python 3",
   "language": "python",
   "name": "python3"
  },
  "language_info": {
   "codemirror_mode": {
    "name": "ipython",
    "version": 3
   },
   "file_extension": ".py",
   "mimetype": "text/x-python",
   "name": "python",
   "nbconvert_exporter": "python",
   "pygments_lexer": "ipython3",
   "version": "3.6.4"
  }
 },
 "nbformat": 4,
 "nbformat_minor": 2
}
