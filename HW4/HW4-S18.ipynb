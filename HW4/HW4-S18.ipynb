{
 "cells": [
  {
   "cell_type": "markdown",
   "metadata": {
    "collapsed": true,
    "ein.tags": "worksheet-0",
    "slideshow": {
     "slide_type": "-"
    }
   },
   "source": [
    "\n",
    "# <p style=\"text-align: center;\">EE 380L: Data Mining</p>\n",
    "# <p style=\"text-align: center;\">Assignment 4</p>\n",
    "## <p style=\"text-align: center;\">Total points: 70</p>\n",
    "## <p style=\"text-align: center;\">Due: Thursday, April 5th, submitted via Canvas by 11:59 pm</p>\n",
    "\n",
    "Your homework should be written in a **Jupyter notebook**. You may work in groups of two if you wish. Only one student per team needs to submit the assignment on Canvas.  But be sure to include name and UTID for both students.  Homework groups will be created and managed through Canvas, so please do not arbitrarily change your homework group.  \n",
    "\n",
    "Also, please make sure your code runs and the graphics (and anything else) are displayed in your notebook before submitting. (%matplotlib inline)"
   ]
  },
  {
   "cell_type": "markdown",
   "metadata": {
    "ein.tags": "worksheet-0",
    "slideshow": {
     "slide_type": "-"
    }
   },
   "source": [
    "## Name: Chia-Ju Chen\n",
    "## UT EID: cc65542\n",
    "\n",
    "## Name: Minke Cheng\n",
    "## UT EID: mc65568"
   ]
  },
  {
   "cell_type": "markdown",
   "metadata": {},
   "source": [
    "### Note: Q1 and Q3 may take a long time to run (a few hours). It will be more convenient if you run them on a powerful machine. Of course, this is also a good opportunity to use the Azure cloud."
   ]
  },
  {
   "cell_type": "markdown",
   "metadata": {
    "ein.tags": "worksheet-0",
    "slideshow": {
     "slide_type": "-"
    }
   },
   "source": [
    "# Question 1:  2 class Classification (30 pts)\n",
    "\n",
    "In this problem, you will evaluate the performance of 6 classifiers in classifying signal vs background in the MAGIC Gamma Telescope Data Set. The data has been split into training and test as well as standardized for you. \n",
    "You will train the following models on this dataset:\n",
    "\n",
    "1. Gaussian Naive Bayes (http://scikit-learn.org/stable/modules/generated/sklearn.naive_bayes.GaussianNB.html)\n",
    "2. Linear Discriminant Analysis (http://scikit-learn.org/stable/modules/lda_qda.html)\n",
    "3. Quadratic Discriminant Analysis\n",
    "4. Logistic Regression (http://scikit-learn.org/stable/modules/generated/sklearn.linear_model.LogisticRegressionCV.html)\n",
    "5. Linear SVM (http://scikit-learn.org/stable/modules/generated/sklearn.svm.SVC.html#sklearn.svm.SVC)\n",
    "6. Radial Basis Function SVM. \n",
    "\n",
    "For Logistic Regression, you will have to run kFold cross validation with 5 folds to get the best value of C. C is the inverse of the regularization hyper-parameter.\n",
    "For SVM (linear and rbf), you will use GridSearchCV (http://scikit-learn.org/stable/modules/generated/sklearn.grid_search.GridSearchCV.html) with cv set to 5, to identify the correct value of C. Use `Cs = 10**np.linspace(-2, 2, 10)` as the range of C for SVM gridsearch\n",
    "\n",
    "Note: Maintain all other parameters at their default settings.\n",
    "\n",
    "The deliverables for this Problem are the following:\n",
    "1. Use cross validation to find the best C for logistic regression, linear SVM and rbf SVM. (C means different things for each of the models. Please refer the documentation of each API in sklearn for this) (9 points - 3 points per model)\n",
    "2. Report the Mean Error Rate = (1 - model_score) for each of these 3 models. (9 points - 3 points per model)\n",
    "3. Train all 6 models using the best C for logistic regression, linear SVM and rbf SVM. Plot the ROC curve for each of these in one figure. Report the area under the curve (AUC) and accuracy for all 6. (12 points)\n",
    "\n",
    "Note: SVM by default only learns a decision function. In order to obtain ROC curve, you will need prediction probabilities as well. This will require you to set probability=True when training SVM models.\n",
    "\n",
    "Note: It is a good idea to measure the time taken to run the fit function for each hyperparameter setting to estimate the time for gridSearchCv on a range of hyperparameters."
   ]
  },
  {
   "cell_type": "code",
   "execution_count": 6,
   "metadata": {
    "autoscroll": false,
    "ein.tags": "worksheet-0",
    "slideshow": {
     "slide_type": "-"
    }
   },
   "outputs": [],
   "source": [
    "%matplotlib inline\n",
    "import pandas as pd\n",
    "from sklearn.model_selection import train_test_split\n",
    "from sklearn.metrics import roc_curve, roc_auc_score\n",
    "from sklearn.naive_bayes import GaussianNB\n",
    "from sklearn.discriminant_analysis import LinearDiscriminantAnalysis as LDA\n",
    "from sklearn.discriminant_analysis import QuadraticDiscriminantAnalysis as QDA\n",
    "from sklearn import preprocessing\n",
    "from sklearn.model_selection import KFold\n",
    "from sklearn.linear_model import LogisticRegressionCV, LogisticRegression\n",
    "from sklearn.svm import SVC\n",
    "from sklearn.model_selection import GridSearchCV\n",
    "import numpy as np\n",
    "import matplotlib.pyplot as plt"
   ]
  },
  {
   "cell_type": "code",
   "execution_count": 7,
   "metadata": {
    "autoscroll": false,
    "ein.tags": "worksheet-0",
    "slideshow": {
     "slide_type": "-"
    }
   },
   "outputs": [
    {
     "name": "stderr",
     "output_type": "stream",
     "text": [
      "/home/cmk13/anaconda3/lib/python3.6/site-packages/sklearn/utils/validation.py:475: DataConversionWarning: Data with input dtype object was converted to float64 by the scale function.\n",
      "  warnings.warn(msg, DataConversionWarning)\n"
     ]
    }
   ],
   "source": [
    "# load data\n",
    "# train\n",
    "train = pd.read_csv('magic_train.csv', header=None)\n",
    "y_train = train.values[:,10]\n",
    "y_train[y_train == 'g'] = 0\n",
    "y_train[y_train == 'h'] = 1\n",
    "y_train = y_train.astype(float)\n",
    "X_train = train.values[:,:10]\n",
    "\n",
    "# test\n",
    "test = pd.read_csv('magic_test.csv', header=None)\n",
    "y_test = test.values[:,10]\n",
    "y_test[y_test == 'g'] = 0\n",
    "y_test[y_test == 'h'] = 1\n",
    "y_test = y_test.astype(float)\n",
    "X_test = test.values[:,:10]\n",
    "\n",
    "# standardize the data\n",
    "X_train = preprocessing.scale(X_train)\n",
    "X_test = preprocessing.scale(X_test)"
   ]
  },
  {
   "cell_type": "markdown",
   "metadata": {},
   "source": [
    "### 1"
   ]
  },
  {
   "cell_type": "code",
   "execution_count": 8,
   "metadata": {},
   "outputs": [
    {
     "name": "stdout",
     "output_type": "stream",
     "text": [
      "Best C for logistic regression: 2.782559402207126\n"
     ]
    }
   ],
   "source": [
    "# To find the best C for logistc regression\n",
    "kf = KFold(n_splits = 5)\n",
    "LR = LogisticRegressionCV(cv=kf)\n",
    "\n",
    "LR.fit(X_train, y_train)\n",
    "\n",
    "print(\"Best C for logistic regression: \" + str(LR.C_[0]))"
   ]
  },
  {
   "cell_type": "code",
   "execution_count": 9,
   "metadata": {},
   "outputs": [
    {
     "data": {
      "text/plain": [
       "GridSearchCV(cv=5, error_score='raise',\n",
       "       estimator=SVC(C=1.0, cache_size=200, class_weight=None, coef0=0.0,\n",
       "  decision_function_shape='ovr', degree=3, gamma='auto', kernel='linear',\n",
       "  max_iter=-1, probability=False, random_state=None, shrinking=True,\n",
       "  tol=0.001, verbose=False),\n",
       "       fit_params=None, iid=True, n_jobs=1,\n",
       "       param_grid={'C': array([1.00000e-02, 2.78256e-02, 7.74264e-02, 2.15443e-01, 5.99484e-01,\n",
       "       1.66810e+00, 4.64159e+00, 1.29155e+01, 3.59381e+01, 1.00000e+02])},\n",
       "       pre_dispatch='2*n_jobs', refit=True, return_train_score='warn',\n",
       "       scoring=None, verbose=0)"
      ]
     },
     "execution_count": 9,
     "metadata": {},
     "output_type": "execute_result"
    }
   ],
   "source": [
    "parameters = {'C':10**np.linspace(-2, 2, 10)}\n",
    "svc = SVC(kernel='linear')\n",
    "clf = GridSearchCV(svc, parameters, cv=5)\n",
    "clf.fit(X_train, y_train)"
   ]
  },
  {
   "cell_type": "code",
   "execution_count": 10,
   "metadata": {},
   "outputs": [
    {
     "name": "stdout",
     "output_type": "stream",
     "text": [
      "Best C for linear SVM: 0.027825594022071243\n"
     ]
    }
   ],
   "source": [
    "print(\"Best C for linear SVM: \" + str(clf.best_params_['C']))"
   ]
  },
  {
   "cell_type": "code",
   "execution_count": 11,
   "metadata": {},
   "outputs": [
    {
     "data": {
      "text/plain": [
       "GridSearchCV(cv=5, error_score='raise',\n",
       "       estimator=SVC(C=1.0, cache_size=200, class_weight=None, coef0=0.0,\n",
       "  decision_function_shape='ovr', degree=3, gamma='auto', kernel='rbf',\n",
       "  max_iter=-1, probability=False, random_state=None, shrinking=True,\n",
       "  tol=0.001, verbose=False),\n",
       "       fit_params=None, iid=True, n_jobs=1,\n",
       "       param_grid={'C': array([1.00000e-02, 2.78256e-02, 7.74264e-02, 2.15443e-01, 5.99484e-01,\n",
       "       1.66810e+00, 4.64159e+00, 1.29155e+01, 3.59381e+01, 1.00000e+02])},\n",
       "       pre_dispatch='2*n_jobs', refit=True, return_train_score='warn',\n",
       "       scoring=None, verbose=0)"
      ]
     },
     "execution_count": 11,
     "metadata": {},
     "output_type": "execute_result"
    }
   ],
   "source": [
    "parameters_rbf = {'C':10**np.linspace(-2, 2, 10)}\n",
    "svc_rbf = SVC(kernel='rbf')\n",
    "clf_rbf = GridSearchCV(svc_rbf, parameters_rbf, cv=5)\n",
    "clf_rbf.fit(X_train, y_train)"
   ]
  },
  {
   "cell_type": "code",
   "execution_count": 12,
   "metadata": {},
   "outputs": [
    {
     "name": "stdout",
     "output_type": "stream",
     "text": [
      "Best C for rbf SVM: 100.0\n"
     ]
    }
   ],
   "source": [
    "print(\"Best C for rbf SVM: \" + str(clf_rbf.best_params_['C']))"
   ]
  },
  {
   "cell_type": "markdown",
   "metadata": {},
   "source": [
    "### 2"
   ]
  },
  {
   "cell_type": "code",
   "execution_count": 13,
   "metadata": {},
   "outputs": [
    {
     "name": "stdout",
     "output_type": "stream",
     "text": [
      "Mean Error Rate for logistic regression is: 0.20376831821353802\n",
      "Mean Error Rate for linear SVM is: 0.20219818562456382\n",
      "Mean Error Rate for rbf SVM is: 0.1292742498255408\n"
     ]
    }
   ],
   "source": [
    "print(\"Mean Error Rate for logistic regression is: \" + str(1 - LR.score(X_test, y_test)))\n",
    "\n",
    "svc_Linear = SVC(kernel='linear', C=clf.best_params_['C'])\n",
    "svc_Linear.fit(X_train, y_train)\n",
    "print(\"Mean Error Rate for linear SVM is: \" + str(1 - svc_Linear.score(X_test, y_test)))\n",
    "\n",
    "svc_RBF = SVC(kernel='rbf', C=clf_rbf.best_params_['C'])\n",
    "svc_RBF.fit(X_train, y_train)\n",
    "print(\"Mean Error Rate for rbf SVM is: \" + str(1 - svc_RBF.score(X_test, y_test)))"
   ]
  },
  {
   "cell_type": "markdown",
   "metadata": {},
   "source": [
    "### 3"
   ]
  },
  {
   "cell_type": "code",
   "execution_count": 24,
   "metadata": {},
   "outputs": [],
   "source": [
    "clf_GNB = GaussianNB()\n",
    "clf_GNB.fit(X_train, y_train)\n",
    "y_GNB_predict = clf_GNB.predict_proba(X_test)\n",
    "fpr_GNB, tpr_GNB, thresholds_GNB = roc_curve(y_test, y_GNB_predict[:,1])\n",
    "AUC_GNB = roc_auc_score(y_test, y_GNB_predict[:,1])"
   ]
  },
  {
   "cell_type": "code",
   "execution_count": 25,
   "metadata": {},
   "outputs": [],
   "source": [
    "clf_LDA = LDA()\n",
    "clf_LDA.fit(X_train, y_train)\n",
    "y_LDA_predict = clf_LDA.predict_proba(X_test)\n",
    "fpr_LDA, tpr_LDA, thresholds_LDA = roc_curve(y_test, y_LDA_predict[:,1])\n",
    "AUC_LDA = roc_auc_score(y_test, y_LDA_predict[:,1])"
   ]
  },
  {
   "cell_type": "code",
   "execution_count": 26,
   "metadata": {},
   "outputs": [],
   "source": [
    "clf_QDA = QDA()\n",
    "clf_QDA.fit(X_train, y_train)\n",
    "y_QDA_predict = clf_QDA.predict_proba(X_test)\n",
    "fpr_QDA, tpr_QDA, thresholds_QDA = roc_curve(y_test, y_QDA_predict[:,1])\n",
    "AUC_QDA = roc_auc_score(y_test, y_QDA_predict[:,1])"
   ]
  },
  {
   "cell_type": "code",
   "execution_count": 29,
   "metadata": {},
   "outputs": [],
   "source": [
    "y_LR_predict = LR.predict_proba(X_test)\n",
    "fpr_LR, tpr_LR, thresholds_LR = roc_curve(y_test, y_LR_predict[:,1])\n",
    "AUC_LR = roc_auc_score(y_test, y_LR_predict[:,1])"
   ]
  },
  {
   "cell_type": "code",
   "execution_count": 30,
   "metadata": {},
   "outputs": [],
   "source": [
    "clf_Linear_SVC = SVC(kernel='linear', C=clf.best_params_['C'], probability=True)\n",
    "clf_Linear_SVC.fit(X_train, y_train)\n",
    "y_Linear_SVC_predict = clf_Linear_SVC.predict_proba(X_test)\n",
    "fpr_Linear_SVC, tpr_Linear_SVC, thresholds_Linear_SVC = roc_curve(y_test, y_Linear_SVC_predict[:,1])\n",
    "AUC_Linear_SVC = roc_auc_score(y_test, y_Linear_SVC_predict[:,1])"
   ]
  },
  {
   "cell_type": "code",
   "execution_count": 31,
   "metadata": {},
   "outputs": [],
   "source": [
    "clf_RBF_SVC = SVC(kernel='rbf', C=clf_rbf.best_params_['C'], probability=True)\n",
    "clf_RBF_SVC.fit(X_train, y_train)\n",
    "y_RBF_SVC_predict = clf_RBF_SVC.predict_proba(X_test)\n",
    "fpr_RBF_SVC, tpr_RBF_SVC, thresholds_RBF_SVC = roc_curve(y_test, y_RBF_SVC_predict[:,1])\n",
    "AUC_RBF_SVC = roc_auc_score(y_test, y_RBF_SVC_predict[:,1])"
   ]
  },
  {
   "cell_type": "code",
   "execution_count": 39,
   "metadata": {},
   "outputs": [
    {
     "data": {
      "image/png": "[encoded data removed]",
      "text/plain": [
       "<matplotlib.figure.Figure at 0x7ff690fc2470>"
      ]
     },
     "metadata": {},
     "output_type": "display_data"
    },
    {
     "name": "stdout",
     "output_type": "stream",
     "text": [
      "AUC for GNB model:  0.7711995034383418\n",
      "AUC for LDA model:  0.8461535909897093\n",
      "AUC for QDA model:  0.8719141865452542\n",
      "AUC for Logistic Regression model:  0.8473180376314232\n",
      "AUC for linear SVM model:  0.8430554543829752\n",
      "AUC for RBF SVM model:  0.9258367834841768\n",
      "\n",
      "\n",
      "Accuracy for GNB model:  0.7316817864619679\n",
      "Accuracy for LDA model:  0.7885554780181437\n",
      "Accuracy for QDA model:  0.7864619678995115\n",
      "Accuracy for Logistic Regression model:  0.796231681786462\n",
      "Accuracy for linear SVM model:  0.7978018143754362\n",
      "Accuracy for RBF SVM model:  0.8707257501744592\n"
     ]
    }
   ],
   "source": [
    "GNB_plot, = plt.plot(fpr_GNB, tpr_GNB, 'r', label=\"GNB: AUC = \" + str(AUC_GNB))\n",
    "LDA_plot, = plt.plot(fpr_LDA, tpr_LDA, 'b', label=\"LDA: AUC = \" + str(AUC_LDA))\n",
    "QDA_plot, = plt.plot(fpr_QDA, tpr_QDA, 'y', label=\"QDA: AUC = \" + str(AUC_QDA))\n",
    "LR_plot, = plt.plot(fpr_LR, tpr_LR, 'g', label=\"Logistic: AUC = \" + str(AUC_LR))\n",
    "Linear_plot, = plt.plot(fpr_Linear_SVC, tpr_Linear_SVC, 'c', label=\"Linear SVM: AUC = \" + str(AUC_Linear_SVC))\n",
    "RBF_plot, = plt.plot(fpr_RBF_SVC, tpr_RBF_SVC, 'm', label=\"RBF SVM: AUC = \" + str(AUC_RBF_SVC))\n",
    "\n",
    "plt.legend(handles=[GNB_plot, LDA_plot, QDA_plot, LR_plot, Linear_plot, RBF_plot])\n",
    "plt.xlabel('False Positive Rate')\n",
    "plt.ylabel('True Positive Rate')\n",
    "plt.title('ROC curves')\n",
    "plt.show()\n",
    "\n",
    "print(\"AUC for GNB model: \", AUC_GNB)\n",
    "print(\"AUC for LDA model: \", AUC_LDA)\n",
    "print(\"AUC for QDA model: \", AUC_QDA)\n",
    "print(\"AUC for Logistic Regression model: \", AUC_LR)\n",
    "print(\"AUC for linear SVM model: \", AUC_Linear_SVC)\n",
    "print(\"AUC for RBF SVM model: \", AUC_RBF_SVC)\n",
    "print(\"\\n\")\n",
    "print(\"Accuracy for GNB model: \", clf_GNB.score(X_test, y_test))\n",
    "print(\"Accuracy for LDA model: \", clf_LDA.score(X_test, y_test))\n",
    "print(\"Accuracy for QDA model: \", clf_QDA.score(X_test, y_test))\n",
    "print(\"Accuracy for Logistic Regression model: \", LR.score(X_test, y_test))\n",
    "print(\"Accuracy for linear SVM model: \", clf_Linear_SVC.score(X_test, y_test))\n",
    "print(\"Accuracy for RBF SVM model: \", clf_RBF_SVC.score(X_test, y_test))"
   ]
  },
  {
   "cell_type": "markdown",
   "metadata": {
    "ein.tags": "worksheet-0",
    "slideshow": {
     "slide_type": "-"
    }
   },
   "source": [
    "# Question 2: Bayesian Networks (10 pts)\n",
    "In the Bayesian Network shown below, the nodes represent the following random variables: S stands for \"Smoking\", LC for \"Lung Cancer\", B for \"Bronchitis\", T for \"Tuberculosis\", D for \"Dyspnea\". The necessary conditional probabilities are provided alongside. "
   ]
  },
  {
   "cell_type": "code",
   "execution_count": 1,
   "metadata": {
    "autoscroll": false,
    "ein.tags": "worksheet-0",
    "slideshow": {
     "slide_type": "-"
    }
   },
   "outputs": [
    {
     "data": {
      "image/png": "[encoded data removed]",
      "text/plain": [
       "<IPython.core.display.Image object>"
      ]
     },
     "execution_count": 1,
     "metadata": {},
     "output_type": "execute_result"
    }
   ],
   "source": [
    "from IPython.display import Image\n",
    "Image(filename='BayesianNetworks.png')"
   ]
  },
  {
   "cell_type": "markdown",
   "metadata": {
    "ein.tags": "worksheet-0",
    "slideshow": {
     "slide_type": "-"
    }
   },
   "source": [
    "$$Pr(S = yes) = 0.1$$\n",
    "$$Pr(LC = yes | S = yes) = 0.03$$\n",
    "$$Pr(LC = yes | S = no) = 0.01$$\n",
    "$$Pr(B = yes | S = yes) = 0.06$$\n",
    "$$Pr(B = yes | S = no) = 0.02$$\n",
    "$$Pr(T = yes | LC = yes, B = yes) = 0.8$$\n",
    "$$Pr(T = yes | LC = yes, B = no) = 0.5$$\n",
    "$$Pr(T = yes | LC = no, B = yes) = 0.1$$\n",
    "$$Pr(T = yes | LC = no, B = no) = 0.04$$\n",
    "$$Pr(D = yes | T = yes, B = yes) = 0.9$$\n",
    "$$Pr(D = yes | T = yes, B = no) = 0.7$$\n",
    "$$Pr(D = yes | T = no, B = yes) = 0.65$$\n",
    "$$Pr(D = yes | T = no, B = no) = 0.015$$"
   ]
  },
  {
   "cell_type": "markdown",
   "metadata": {
    "ein.tags": "worksheet-0",
    "slideshow": {
     "slide_type": "-"
    }
   },
   "source": [
    "Compute the following probabilities:\n",
    "\n",
    "(a) (2 pts) $Pr(D = yes)$\n",
    "\n",
    "(b) (2 pts) $Pr(LC = no, B = yes, D = yes)$\n",
    "\n",
    "(c) (3 pts) Given that a person has Bronchitis (B = yes) and no Lung Cancer (LC = no), the probability he will has symptoms of Dyspnea (D = yes).\n",
    "\n",
    "(d) (3 pts) Given that a person is a smoker (S = yes), the probability he will get infected with Tuberculosis (T = yes)."
   ]
  },
  {
   "cell_type": "markdown",
   "metadata": {
    "ein.tags": "worksheet-0",
    "slideshow": {
     "slide_type": "-"
    }
   },
   "source": [
    "# Answer\n",
    "### (a)  \n",
    "Firstly, we have:  \n",
    "$$\n",
    "\\begin{align}\n",
    "\\\\\n",
    "Pr(B = yes) & = Pr(B = yes | S = yes) \\cdot Pr(S = yes) + Pr(B = yes | S = no) \\cdot Pr(S = no) \\\\\n",
    "& = 0.06 * 0.1 + 0.02 * 0.9 \\\\\n",
    "& = 0.024\n",
    "\\end{align}\n",
    "\\\\\n",
    "$$\n",
    "$$\n",
    "\\begin{align}\n",
    "Pr(LC = yes) & = Pr(LC = yes | S = yes) \\cdot Pr(S = yes) + Pr(LC = yes | S = no) \\cdot Pr(S = no) \\\\\n",
    "& = 0.03 * 0.1 + 0.01 * 0.9 \\\\\n",
    "& = 0.012\n",
    "\\end{align}\n",
    "$$\n",
    "\n",
    "Then, we can get:  \n",
    "$$\n",
    "\\begin{align}\n",
    "\\\\\n",
    "Pr(T = yes | B = yes) & = Pr(T = yes | LC = yes, B = yes) \\cdot Pr(LC = yes) + Pr(T = yes | LC = no, B = yes) \\cdot Pr(LC = no)\\\\ \n",
    "& = 0.8 * 0.012 + 0.1 * 0.988 \\\\\n",
    "& = 0.1084\n",
    "\\end{align} \\\\\n",
    "$$\n",
    "$$\n",
    "\\begin{align}\n",
    "Pr(T = yes | B = no) & = Pr(T = yes | LC = yes, B = no) \\cdot Pr(LC = yes) + Pr(T = yes | LC = no, B = no) \\cdot Pr(LC = no)\\\\ \n",
    "& = 0.5 * 0.012 + 0.04 * 0.988 \\\\\n",
    "& = 0.04552\n",
    "\\end{align} \\\\\n",
    "$$\n",
    "$$\n",
    "\\begin{align}\n",
    "Pr(T = no | B = yes) & = Pr(T = no | LC = yes, B = yes) \\cdot Pr(LC = yes) + Pr(T = no | LC = no, B = yes) \\cdot Pr(LC = no)\\\\ \n",
    "& = 0.2 * 0.012 + 0.9 * 0.988 \\\\\n",
    "& = 0.8916\n",
    "\\end{align} \\\\\n",
    "$$\n",
    "$$\n",
    "\\begin{align}\n",
    "Pr(T = no | B = no) & = Pr(T = no | LC = yes, B = no) \\cdot Pr(LC = yes) + Pr(T = no | LC = no, B = no) \\cdot Pr(LC = no)\\\\ \n",
    "& = 0.5 * 0.012 + 0.96 * 0.988 \\\\\n",
    "& = 0.95448\n",
    "\\end{align} \\\\\n",
    "$$\n",
    "\n",
    "Based on the results above, we have:  \n",
    "$$\n",
    "\\begin{align}\n",
    "\\\\\n",
    "Pr(T = yes , B = yes) & = Pr(T = yes | B = yes) \\cdot Pr(B = yes) \\\\\n",
    "& = 0.1084 * 0.024 \\\\\n",
    "& = 2.6016 \\times 10^{-3}\n",
    "\\end{align} \\\\\n",
    "$$\n",
    "$$\n",
    "\\begin{align}\n",
    "Pr(T = yes , B = no) & = Pr(T = yes | B = no) \\cdot Pr(B = no) \\\\\n",
    "& = 0.04552 * 0.976 \\\\\n",
    "& = 0.04442752\n",
    "\\end{align} \\\\\n",
    "$$\n",
    "$$\n",
    "\\begin{align}\n",
    "Pr(T = no , B = yes) & = Pr(T = no | B = yes) \\cdot Pr(B = yes) \\\\\n",
    "& = 0.8916 * 0.024 \\\\\n",
    "& = 0.0213984\n",
    "\\end{align} \\\\\n",
    "$$\n",
    "$$\n",
    "\\begin{align}\n",
    "Pr(T = no , B = no) & = Pr(T = no | B = no) \\cdot Pr(B = no) \\\\\n",
    "& = 0.95448 * 0.976 \\\\\n",
    "& = 0.93157248\n",
    "\\end{align} \\\\\n",
    "$$\n",
    "\n",
    "So, we can get:  \n",
    "$$\n",
    "\\begin{align}\n",
    "Pr(D = yes) = \\ & Pr(D = yes | T = yes, B = yes) * Pr(T = yes, B = yes) + \\\\\n",
    "& Pr(D = yes | T = yes, B = no) * Pr(T = yes, B = no) + \\\\\n",
    "& Pr(D = yes | T = no, B = yes) * Pr(T = no, B = yes) + \\\\\n",
    "& Pr(D = yes | T = no, B = no) * Pr(T = no, B = no) \\\\\n",
    "= \\ & 0.9 * 0.0026016 + 0.7 * 0.04442752 + 0.65 * 0.0213984 + 0.015 * 0.93157248 \\\\\n",
    "= \\ & 0.0613232512\n",
    "\\end{align}\n",
    "$$"
   ]
  },
  {
   "cell_type": "markdown",
   "metadata": {},
   "source": [
    "### (b)\n",
    "Firstly, we know LC is independent with B with condition S, so we have:  \n",
    "$$\n",
    "\\begin{align}\n",
    "\\\\\n",
    "Pr(LC = no, B = yes) = & \\ Pr(LC = no | S = yes) \\cdot Pr(B = yes | S = yes) \\cdot Pr(S = yes) +\\\\\n",
    "& \\ Pr(LC = no | S = no) \\cdot Pr(B = yes | S = no) \\cdot Pr(S = no) \\\\\n",
    "= & \\ 0.97 * 0.06 * 0.1 + 0.99 * 0.02 * 0.9 \\\\\n",
    "= & \\ 0.02364\n",
    "\\end{align} \\\\\n",
    "$$\n",
    "\n",
    "Then we calculate the following:  \n",
    "$$\n",
    "\\begin{align}\n",
    "\\\\\n",
    "Pr(D = yes | LC = no, B = yes) = & \\ Pr(D = yes | T = yes, B = yes) * Pr(T = yes| LC = no, B = yes) + \\\\\n",
    "& \\ Pr(D = yes | T = no, B = yes) * Pr(T = no| LC = no, B = yes) \\\\\n",
    "= & \\ 0.9 * 0.1 + 0.65 * 0.9 \\\\\n",
    "= & \\ 0.675\n",
    "\\end{align}\n",
    "$$\n",
    "\n",
    "Now, we calculate the final result of the target probability:  \n",
    "$$\n",
    "\\begin{align}\n",
    "\\\\\n",
    "Pr(LC = no, B = yes, D = yes) = & \\ Pr(D = yes | LC = no, B = yes) \\cdot Pr(LC = no, B = yes) \\\\\n",
    "= & \\ 0.675 * 0.02364 \\\\\n",
    "= & \\ 0.015957\n",
    "\\end{align}\n",
    "$$"
   ]
  },
  {
   "cell_type": "markdown",
   "metadata": {},
   "source": [
    "### (C)\n",
    "The target probability can be written as:\n",
    "$$Pr(D = yes | B = yes, LC = no)$$\n",
    "\n",
    "The value of it has been calaulated above in (b), which is 0.675."
   ]
  },
  {
   "cell_type": "markdown",
   "metadata": {},
   "source": [
    "### (d)\n",
    "The target probability can be written as:\n",
    "$$Pr(T = yes | S = yes)$$\n",
    "  \n",
    "LC and B are independent with each other when given S. Based on what we are given, we get:  \n",
    "$$\n",
    "\\begin{align}\\\\\n",
    "Pr(LC = yes, B = yes | S = yes) = & \\ Pr(LC = yes | S = yes) \\cdot Pr(B = yes | S = yes) \\\\\n",
    "= & \\ 0.03 * 0.06 \\\\\n",
    "= & \\ 0.0018\n",
    "\\end{align} \\\\\n",
    "$$\n",
    "$$\n",
    "\\begin{align}\n",
    "Pr(LC = yes, B = no | S = yes) = & \\ Pr(LC = yes | S = yes) \\cdot Pr(B = no | S = yes) \\\\\n",
    "= & \\ 0.03 * 0.94 \\\\\n",
    "= & \\ 0.0282\n",
    "\\end{align} \\\\\n",
    "$$\n",
    "$$\n",
    "\\begin{align}\n",
    "Pr(LC = no, B = yes | S = yes) = & \\ Pr(LC = no | S = yes) \\cdot Pr(B = yes | S = yes) \\\\\n",
    "= & \\ 0.97 * 0.06 \\\\\n",
    "= & \\ 0.0582\n",
    "\\end{align} \\\\\n",
    "$$\n",
    "$$\n",
    "\\begin{align}\n",
    "Pr(LC = no, B = no | S = yes) = & \\ Pr(LC = no | S = yes) \\cdot Pr(B = no | S = yes) \\\\\n",
    "= & \\ 0.97 * 0.94 \\\\\n",
    "= & \\ 0.9118\n",
    "\\end{align} \\\\\n",
    "$$\n",
    "\n",
    "So the target probability should be:  \n",
    "$$\n",
    "\\begin{align} \\\\\n",
    "Pr(T = yes | S = yes) = & \\ Pr(T = yes | LC = yes, B = yes) \\cdot Pr(LC = yes, B = yes | S = yes) + \\\\\n",
    "& \\ Pr(T = yes | LC = yes, B = no) \\cdot Pr(LC = yes, B = no | S = yes) + \\\\\n",
    "& \\ Pr(T = yes | LC = no, B = yes) \\cdot Pr(LC = no, B = yes | S = yes) + \\\\\n",
    "& \\ Pr(T = yes | LC = no, B = no) \\cdot Pr(LC = no, B = no | S = yes) \\\\\n",
    "= & \\ 0.8 * 0.0018 + 0.5 * 0.0282 + 0.1 * 0.0582 + 0.04 * 0.9118 \\\\\n",
    "= & \\ 0.057832\n",
    "\\end{align}\n",
    "$$"
   ]
  },
  {
   "cell_type": "markdown",
   "metadata": {
    "ein.tags": "worksheet-0",
    "slideshow": {
     "slide_type": "-"
    }
   },
   "source": [
    "# Question 3: (15 pts)"
   ]
  },
  {
   "cell_type": "markdown",
   "metadata": {
    "ein.tags": "worksheet-0",
    "slideshow": {
     "slide_type": "-"
    }
   },
   "source": [
    "In this problem we will be classifying data in the CIFAR-10 dataset which contains 60000 images classified in 10 mutually exclusive classes. Please download and extract the data from https://www.cs.toronto.edu/~kriz/cifar-10-python.tar.gz\n",
    "\n",
    "For parts 1-3 we will build a classifier to determine whether an image is in class 0 or class 1. In part 4, we will classify the imges into any of 10 classes. We've included starter code to load the data from the unzipped folder.\n",
    "\n",
    "1. Train a logistic regression with almost no regularization (pass l2 (ridge) to penalty and 1,000,000 to the C parameter which is the inverse of regularization strength lambda. This essentially does l2 regularization but applies very little weight to the penalty term) and report the [confusion matrix](http://scikit-learn.org/stable/modules/generated/sklearn.metrics.confusion_matrix.html) on the test data. Also report the accuracy for the \"y = 0\" class, the \"y = 1\" class, and the average per-class accuracy on the test data. Average per-class accuracy is described in this [post](http://rasbt.github.io/mlxtend/user_guide/evaluate/scoring/). You can use your confusion matrix to calculate this.  (4pts)\n",
    "2. Repeat step 1 except use l2 penalty with Cs of [0.01, 0.1, 1, 10 ,100]. You will want to use 3-fold cross validation to select the best parameter. To evaluate which parameter is best, maximize the average per-class accuracy. To help with this task, check out [GridSearchCV](http://scikit-learn.org/stable/modules/generated/sklearn.model_selection.GridSearchCV.html#sklearn.model_selection.GridSearchCV) and how to make your own [custom scorer](http://scikit-learn.org/stable/modules/model_evaluation.html).  (4pts)\n",
    "3. Repeat question 2 except use l1 instead of l2 as the penalty type, use Cs of  [0.01, ..., 100].  Compare the performances of the models (no regularization, l2, l1) using the average per-class accuracy.  (3pts)\n",
    "4. Using the optimal regularization parameter obtained in step 2, train a logistic regression classifier with ridge penalty to clasify $\\textbf{all 10 digits}$ (digits 0,1,2,3,...9) of the MNIST dataset.  Use 'newton-cg' and 'multinomial' options for solver and multi_class parameters, respectively. Report the average per-class accuracy and confusion matrix (10 X 10) on the test data. (4pts)"
   ]
  },
  {
   "cell_type": "code",
   "execution_count": 1,
   "metadata": {
    "autoscroll": false,
    "ein.tags": "worksheet-0",
    "slideshow": {
     "slide_type": "-"
    }
   },
   "outputs": [],
   "source": [
    "import numpy as np\n",
    "import numpy.linalg as la\n",
    "import matplotlib.pyplot as plt\n",
    "import _pickle as cPickle\n",
    "from sklearn.linear_model import LogisticRegression\n",
    "from sklearn.neural_network import MLPClassifier\n",
    "from sklearn.metrics import mean_squared_error, confusion_matrix\n",
    "from sklearn.model_selection import GridSearchCV\n",
    "from sklearn.metrics import accuracy_score\n",
    "\n",
    "def unpickle(path):\n",
    "    with open(path, 'rb') as fo:\n",
    "      data = cPickle.load(fo, encoding='latin1')\n",
    "    return data\n",
    "\n",
    "def load_data(path, test=False):\n",
    "    data = []\n",
    "    labels = []\n",
    "    if test:\n",
    "        batch = unpickle(path + '/test_batch')\n",
    "        data = batch['data']\n",
    "        labels = batch['labels']\n",
    "    else:\n",
    "        for batch_num in range(1, 5):\n",
    "            batch = unpickle(path + '/data_batch_' + str(batch_num))\n",
    "            if len(data) == 0: \n",
    "                data = batch['data']\n",
    "            else:\n",
    "                data = np.concatenate([data, batch['data']], axis=0)\n",
    "            labels += batch['labels']\n",
    "    data = np.array(data)\n",
    "    labels = np.array(labels)\n",
    "    return data, labels"
   ]
  },
  {
   "cell_type": "code",
   "execution_count": 2,
   "metadata": {
    "autoscroll": false,
    "ein.tags": "worksheet-0",
    "slideshow": {
     "slide_type": "-"
    }
   },
   "outputs": [],
   "source": [
    "all_train_data, all_train_labels = load_data('./cifar-10-batches-py')\n",
    "all_test_data, all_test_labels = load_data('./cifar-10-batches-py', test=True)\n",
    "\n",
    "two_class_train_data = all_train_data[(all_train_labels == 0) | (all_train_labels == 1)]\n",
    "two_class_train_labels = all_train_labels[(all_train_labels == 0) | (all_train_labels == 1)]\n",
    "\n",
    "two_class_test_data = all_test_data[(all_test_labels == 0) | (all_test_labels == 1)]\n",
    "two_class_test_labels = all_test_labels[(all_test_labels == 0) | (all_test_labels == 1)]\n",
    "\n",
    "X_train = (two_class_train_data / 255.)\n",
    "y_train = two_class_train_labels\n",
    "\n",
    "X_test = (two_class_test_data / 255.)\n",
    "y_test = two_class_test_labels"
   ]
  },
  {
   "cell_type": "code",
   "execution_count": 3,
   "metadata": {},
   "outputs": [
    {
     "data": {
      "text/plain": [
       "(2000,)"
      ]
     },
     "execution_count": 3,
     "metadata": {},
     "output_type": "execute_result"
    }
   ],
   "source": [
    "y_test.shape"
   ]
  },
  {
   "cell_type": "code",
   "execution_count": 4,
   "metadata": {},
   "outputs": [],
   "source": [
    "X_train = X_train[np.array(range(0, 7972, 10))]\n",
    "y_train = y_train[np.array(range(0, 7972, 10))]\n",
    "\n",
    "X_test = X_test[np.array(range(0, 2000, 10))]\n",
    "y_test = y_test[np.array(range(0, 2000, 10))]"
   ]
  },
  {
   "cell_type": "markdown",
   "metadata": {
    "ein.tags": "worksheet-0",
    "slideshow": {
     "slide_type": "-"
    }
   },
   "source": [
    "# Answer\n",
    "### 1"
   ]
  },
  {
   "cell_type": "code",
   "execution_count": 5,
   "metadata": {},
   "outputs": [
    {
     "name": "stdout",
     "output_type": "stream",
     "text": [
      "The confusion matrix is: \n",
      "[[78 17]\n",
      " [30 75]]\n",
      "Accuracy for the \"y = 0\" class:  0.8210526315789474\n",
      "Accuracy for the \"y = 1\" class:  0.7142857142857143\n",
      "Average per-class accuracy on the test data is:  0.765\n"
     ]
    }
   ],
   "source": [
    "logistic_model = LogisticRegression(penalty='l2',C=1000000)\n",
    "logistic_model.fit(X_train, y_train)\n",
    "\n",
    "y_predict = logistic_model.predict(X_test)\n",
    "con_matrix = confusion_matrix(y_test, y_predict)\n",
    "\n",
    "accuracy_y0 = np.sum([(y_predict[i] == 0) & (y_test[i] == 0) for i in range(len(y_test))]) / np.sum(y_test == 0)\n",
    "accuracy_y1 = np.sum([(y_predict[i] == 1) & (y_test[i] == 1) for i in range(len(y_test))]) / np.sum(y_test == 1)\n",
    "\n",
    "ERR = (con_matrix[0][1] + con_matrix[1][0]) / np.sum(con_matrix)\n",
    "ACC = 1 - ERR\n",
    "\n",
    "print(\"The confusion matrix is: \")\n",
    "print(con_matrix)\n",
    "print(\"Accuracy for the \\\"y = 0\\\" class: \", accuracy_y0)\n",
    "print(\"Accuracy for the \\\"y = 1\\\" class: \", accuracy_y1)\n",
    "print(\"Average per-class accuracy on the test data is: \", ACC)"
   ]
  },
  {
   "cell_type": "markdown",
   "metadata": {},
   "source": [
    "### 2"
   ]
  },
  {
   "cell_type": "code",
   "execution_count": 6,
   "metadata": {},
   "outputs": [
    {
     "data": {
      "text/plain": [
       "GridSearchCV(cv=3, error_score='raise',\n",
       "       estimator=LogisticRegression(C=1.0, class_weight=None, dual=False, fit_intercept=True,\n",
       "          intercept_scaling=1, max_iter=100, multi_class='ovr', n_jobs=1,\n",
       "          penalty='l2', random_state=None, solver='liblinear', tol=0.0001,\n",
       "          verbose=0, warm_start=False),\n",
       "       fit_params=None, iid=True, n_jobs=1,\n",
       "       param_grid={'C': [0.01, 0.1, 1, 10, 100]}, pre_dispatch='2*n_jobs',\n",
       "       refit=True, return_train_score='warn',\n",
       "       scoring=make_scorer(my_custom_scorer), verbose=0)"
      ]
     },
     "execution_count": 6,
     "metadata": {},
     "output_type": "execute_result"
    }
   ],
   "source": [
    "from sklearn.metrics import make_scorer\n",
    "\n",
    "def my_custom_scorer(y_test, y_predict):\n",
    "    con_matrix = confusion_matrix(y_test, y_predict)\n",
    "    ERR = (con_matrix[0][1] + con_matrix[1][0]) / np.sum(con_matrix)\n",
    "    ACC = 1 - ERR\n",
    "    return ACC\n",
    "\n",
    "custom_score = make_scorer(my_custom_scorer, greater_is_better=True)\n",
    "parameters_LR = {'C':[0.01, 0.1, 1, 10 ,100]}\n",
    "\n",
    "logistic_model2 = LogisticRegression(penalty='l2')\n",
    "clf_LR_model2 = GridSearchCV(logistic_model2, parameters_LR, cv=3, scoring=custom_score)\n",
    "clf_LR_model2.fit(X_train, y_train)"
   ]
  },
  {
   "cell_type": "code",
   "execution_count": 7,
   "metadata": {},
   "outputs": [
    {
     "name": "stdout",
     "output_type": "stream",
     "text": [
      "Best C using l2 penalty to maximize the average per-class accuracy:  0.01\n"
     ]
    }
   ],
   "source": [
    "print(\"Best C using l2 penalty to maximize the average per-class accuracy: \", clf_LR_model2.best_params_['C'])"
   ]
  },
  {
   "cell_type": "code",
   "execution_count": 10,
   "metadata": {},
   "outputs": [
    {
     "name": "stdout",
     "output_type": "stream",
     "text": [
      "The confusion matrix for l2 penalty is: \n",
      "[[78 17]\n",
      " [27 78]]\n",
      "Accuracy for the \"y = 0\" class:  0.8210526315789474\n",
      "Accuracy for the \"y = 1\" class:  0.7428571428571429\n",
      "Average per-class accuracy on the test data is:  0.78\n"
     ]
    }
   ],
   "source": [
    "LR_l2_BestC = LogisticRegression(penalty='l2', C=clf_LR_model2.best_params_['C'])\n",
    "LR_l2_BestC.fit(X_train, y_train)\n",
    "\n",
    "y_LR_l2_predict = LR_l2_BestC.predict(X_test)\n",
    "con_LR_l2_matrix = confusion_matrix(y_test, y_LR_l2_predict)\n",
    "\n",
    "accuracy_y0_l2 = np.sum([(y_LR_l2_predict[i] == 0) & (y_test[i] == 0) for i in range(len(y_test))]) / np.sum(y_test == 0)\n",
    "accuracy_y1_l2 = np.sum([(y_LR_l2_predict[i] == 1) & (y_test[i] == 1) for i in range(len(y_test))]) / np.sum(y_test == 1)\n",
    "\n",
    "ERR_l2 = (con_LR_l2_matrix[0][1] + con_LR_l2_matrix[1][0]) / np.sum(con_LR_l2_matrix)\n",
    "ACC_l2 = 1 - ERR_l2\n",
    "\n",
    "print(\"The confusion matrix for l2 penalty is: \")\n",
    "print(con_LR_l2_matrix)\n",
    "print(\"Accuracy for the \\\"y = 0\\\" class: \", accuracy_y0_l2)\n",
    "print(\"Accuracy for the \\\"y = 1\\\" class: \", accuracy_y1_l2)\n",
    "print(\"Average per-class accuracy on the test data is: \", ACC_l2)"
   ]
  },
  {
   "cell_type": "markdown",
   "metadata": {},
   "source": [
    "### 3"
   ]
  },
  {
   "cell_type": "code",
   "execution_count": 12,
   "metadata": {},
   "outputs": [
    {
     "data": {
      "text/plain": [
       "GridSearchCV(cv=3, error_score='raise',\n",
       "       estimator=LogisticRegression(C=1.0, class_weight=None, dual=False, fit_intercept=True,\n",
       "          intercept_scaling=1, max_iter=100, multi_class='ovr', n_jobs=1,\n",
       "          penalty='l1', random_state=None, solver='liblinear', tol=0.0001,\n",
       "          verbose=0, warm_start=False),\n",
       "       fit_params=None, iid=True, n_jobs=1,\n",
       "       param_grid={'C': [0.01, 0.1, 1, 10, 100]}, pre_dispatch='2*n_jobs',\n",
       "       refit=True, return_train_score='warn',\n",
       "       scoring=make_scorer(my_custom_scorer), verbose=0)"
      ]
     },
     "execution_count": 12,
     "metadata": {},
     "output_type": "execute_result"
    }
   ],
   "source": [
    "parameters_LR3 = {'C':[0.01, 0.1, 1, 10 ,100]}\n",
    "\n",
    "logistic_model3 = LogisticRegression(penalty='l1')\n",
    "clf_LR_model3 = GridSearchCV(logistic_model3, parameters_LR3, cv=3, scoring=custom_score)\n",
    "clf_LR_model3.fit(X_train, y_train)"
   ]
  },
  {
   "cell_type": "code",
   "execution_count": 13,
   "metadata": {},
   "outputs": [
    {
     "name": "stdout",
     "output_type": "stream",
     "text": [
      "Best C using l1 penalty to maximize the average per-class accuracy:  1\n"
     ]
    }
   ],
   "source": [
    "print(\"Best C using l1 penalty to maximize the average per-class accuracy: \", clf_LR_model3.best_params_['C'])"
   ]
  },
  {
   "cell_type": "code",
   "execution_count": 14,
   "metadata": {},
   "outputs": [
    {
     "name": "stdout",
     "output_type": "stream",
     "text": [
      "The confusion matrix for l1 penalty is: \n",
      "[[75 20]\n",
      " [23 82]]\n",
      "Accuracy for the \"y = 0\" class:  0.7894736842105263\n",
      "Accuracy for the \"y = 1\" class:  0.780952380952381\n",
      "Average per-class accuracy on the test data is:  0.785\n"
     ]
    }
   ],
   "source": [
    "LR_l1_BestC = LogisticRegression(penalty='l1', C=clf_LR_model3.best_params_['C'])\n",
    "LR_l1_BestC.fit(X_train, y_train)\n",
    "\n",
    "y_LR_l1_predict = LR_l1_BestC.predict(X_test)\n",
    "con_LR_l1_matrix = confusion_matrix(y_test, y_LR_l1_predict)\n",
    "\n",
    "accuracy_y0_l1 = np.sum([(y_LR_l1_predict[i] == 0) & (y_test[i] == 0) for i in range(len(y_test))]) / np.sum(y_test == 0)\n",
    "accuracy_y1_l1 = np.sum([(y_LR_l1_predict[i] == 1) & (y_test[i] == 1) for i in range(len(y_test))]) / np.sum(y_test == 1)\n",
    "\n",
    "ERR_l1 = (con_LR_l1_matrix[0][1] + con_LR_l1_matrix[1][0]) / np.sum(con_LR_l1_matrix)\n",
    "ACC_l1 = 1 - ERR_l1\n",
    "\n",
    "print(\"The confusion matrix for l1 penalty is: \")\n",
    "print(con_LR_l1_matrix)\n",
    "print(\"Accuracy for the \\\"y = 0\\\" class: \", accuracy_y0_l1)\n",
    "print(\"Accuracy for the \\\"y = 1\\\" class: \", accuracy_y1_l1)\n",
    "print(\"Average per-class accuracy on the test data is: \", ACC_l1)"
   ]
  },
  {
   "cell_type": "markdown",
   "metadata": {},
   "source": [
    "According to the result above, the average per-class accuracy of each model is shown here:  \n",
    "No regularization: 0.765   \n",
    "l2 penalty: 0.78  \n",
    "l1 penalty: 0.785  \n",
    "We can find that lasso performs the best while no regularization performs the worst. Ridge performs little worse than lasso. The part of the reason can be, we defined our own scorer when using ridge and lasso, which aims at finding the maximum of the average per-class accuracy. Therefore, it is reasonable that lasso and ridge both perform better than no regularization. Besides, over-fit can be reduced with penalty, which also accounts for the result above."
   ]
  },
  {
   "cell_type": "markdown",
   "metadata": {},
   "source": [
    "### 4"
   ]
  },
  {
   "cell_type": "code",
   "execution_count": 16,
   "metadata": {},
   "outputs": [],
   "source": [
    "X_train = (all_train_data / 255.)\n",
    "y_train = all_train_labels\n",
    "\n",
    "X_test = (all_test_data / 255.)\n",
    "y_test = all_test_labels\n",
    "\n",
    "LR_all_data = LogisticRegression(penalty='l2', C=clf_LR_model2.best_params_['C'], solver='newton-cg', multi_class='multinomial')\n",
    "LR_all_data.fit(X_train, y_train)\n",
    "\n",
    "y_mnist_predict = LR_all_data.predict(X_test)\n",
    "con_matrix_mnist = confusion_matrix(y_test, y_mnist_predict)"
   ]
  },
  {
   "cell_type": "code",
   "execution_count": 19,
   "metadata": {},
   "outputs": [
    {
     "name": "stdout",
     "output_type": "stream",
     "text": [
      "The average per-class accuracy is:  0.8827399999999999\n",
      "The confusion matrix is: \n",
      "[[489  43  56  38  21  32  22  47 177  75]\n",
      " [ 55 498  33  35  21  35  41  50  73 159]\n",
      " [ 98  44 286  85 118  86 152  67  43  21]\n",
      " [ 40  58 102 263  62 187 136  49  39  64]\n",
      " [ 55  30 134  71 297  81 165 113  27  27]\n",
      " [ 39  48  93 172  74 344  89  70  50  21]\n",
      " [ 14  38  78 125  90  77 497  37  14  30]\n",
      " [ 42  50  65  63  84  78  48 460  35  75]\n",
      " [157  70  23  23   8  51   8  19 537 104]\n",
      " [ 74 187  18  29  17  28  43  51  87 466]]\n"
     ]
    }
   ],
   "source": [
    "total_num = np.sum(con_matrix_mnist)\n",
    "\n",
    "APC = 0\n",
    "for i in range(10):\n",
    "    TP = con_matrix_mnist[i][i]\n",
    "    FP = 0\n",
    "    FN = 0\n",
    "    for j in range(10):\n",
    "        if(j != i):\n",
    "            FP = FP + con_matrix_mnist[j][i]\n",
    "            FN = FN + con_matrix_mnist[i][j]\n",
    "    TN = total_num - TP - FP - FN\n",
    "    APC = APC + (TP + TN) / total_num\n",
    "APC = APC / 10\n",
    "\n",
    "print(\"The average per-class accuracy is: \", APC)\n",
    "print(\"The confusion matrix is: \")\n",
    "print(con_matrix_mnist)"
   ]
  },
  {
   "cell_type": "markdown",
   "metadata": {},
   "source": [
    "# Question 4: (10 pts)\n",
    "In this problem, we will perform some very basic image recovery using linear regression. The main purpose of this example is to set up the Azure cloud and get acquainted with the environment. Download the dataset on the remote machine into the same folder as this notebook.\n",
    "\n",
    "This part of the homework must be run on the azure cloud machine. We will doublecheck that everyone has used at least a portion of their allocated resources to ensure that everyone has successfully set up the VM.\n",
    "\n",
    "### Using Linear Regression for Image Recovery\n",
    "Given a set of uncorrupted images, $X$, and a single corrupted image $y$, we can find a linear combination of the images in the dataset which best reproduce the corrupted image. This sounds like a regression problem! \n",
    "\n",
    "Obviously, if we perfectly reproduce the corrupted image, then we haven't done a good job recovering the original image. However, if we introduce a penalty on the number of images used in the solution, then we can reproduce a decent approximation of the original image.\n",
    "\n",
    "After finding a linear combination of the images $\\beta$, $X\\beta$ will give us our recovered image (this is done for you in the `recover` function below). Once again, for the result to be an acceptable recovery of the image $X\\beta$ should not exactly equal $y$ since $y$ is the corrupted image.\n",
    "\n",
    "Each image is flattened into a vector of lengh 4096 (each image is 64x64) and the columns of $X$ correspond to the uncorrupted images in the dataset. You can think of the uncorrupted images in the dataset as the features.\n",
    "\n",
    "The starter code we have provided below does most of the work for us, all that is left to do is to:\n",
    "1. Modify the `ols` and `ridge` functions to solve OLS and ridge, respectively on the arguments provided to the functions ($X$ and $y$). (6pts)\n",
    "2. Try different values of the regularization coefficient for the ridge problem. You should be able to get a decent reproduction of the original image. (2pts)\n",
    "3. Explain why OLS does a bad job recovering the image, but ridge does an acceptable job with a good choice of alpha (2pts)"
   ]
  },
  {
   "cell_type": "code",
   "execution_count": 1,
   "metadata": {},
   "outputs": [],
   "source": [
    "from scipy.io import loadmat\n",
    "\n",
    "from sklearn.linear_model import Lasso\n",
    "from sklearn.linear_model import Ridge\n",
    "from sklearn.linear_model import LinearRegression\n",
    "import matplotlib\n",
    "matplotlib.use('Agg')\n",
    "from matplotlib.pyplot import imshow\n",
    "\n",
    "import numpy as np\n",
    "import numpy.linalg as la\n",
    "import matplotlib.pyplot as plt\n",
    "\n",
    "import PIL.Image\n",
    "import glob\n",
    "import re\n",
    "\n",
    "def read_image_array(image_path):\n",
    "    im = np.asarray(PIL.Image.open(image_path)).ravel()\n",
    "    return im\n",
    "\n",
    "def read_images(ignore=[]):\n",
    "    frame_path = 'faces/'\n",
    "    frames = []\n",
    "    file_list = glob.glob(frame_path + \"*.png\")\n",
    "    for file_name in set(file_list) - set(ignore):\n",
    "        frames.append(read_image_array(file_name))\n",
    "    frames_array = np.array(frames).T\n",
    "    normalized = frames_array / 255.0 - np.mean(frames_array / 255.0, axis=0)\n",
    "    return normalized\n",
    "\n",
    "def ols(X, y):\n",
    "\n",
    "    ols_model = LinearRegression()\n",
    "    ols_model.fit(X, y)\n",
    "    model = ols_model.coef_\n",
    "    print(len(model))\n",
    "    return model\n",
    "\n",
    "def ridge(X, y):\n",
    "  #UPDATE THIS FUNCTION\n",
    "    model = Ridge()\n",
    "    model.fit(X, y)\n",
    "    return model.coef_\n",
    "\n",
    "def ridge2(X, y, param_alpha):\n",
    "  #UPDATE THIS FUNCTION\n",
    "    model = Ridge(alpha = param_alpha)\n",
    "    model.fit(X, y)\n",
    "    return model.coef_\n",
    "\n",
    "def get_reference_image_name(corrupted_image_name):\n",
    "    parts = corrupted_image_name.split(\"_\")\n",
    "    return parts[1]\n",
    "\n",
    "def recover(method, name):\n",
    "    print(\"Recovering with\", name)\n",
    "    plt.figure()\n",
    "    corrupted_image_name = \"cor_585.png\"\n",
    "    print(\"recovering\", corrupted_image_name)\n",
    "    corrupted_image_path = corrupted_image_name\n",
    "    original_image_dimensions = np.asarray(PIL.Image.open(corrupted_image_path)).shape\n",
    "    reference_image_name = get_reference_image_name(corrupted_image_name)\n",
    "    reference_image = read_image_array('faces/' + reference_image_name)\n",
    "    reference_image_normalized = reference_image / 255.0 - np.mean(reference_image / 255.0)\n",
    "    corrupted_image = read_image_array(corrupted_image_path)\n",
    "    corrupted_image_normalized = corrupted_image / 255.0 - np.mean(corrupted_image / 255.0)\n",
    "    image_database = read_images()\n",
    "    model = method(image_database, corrupted_image_normalized)\n",
    "    recovered_image = np.dot(image_database, model)\n",
    "    recovered_image_restored = (np.dot(image_database, model) + np.mean(corrupted_image / 255.0)) * 255\n",
    "    return imshow(PIL.Image.fromarray(np.int32(recovered_image_restored.reshape(original_image_dimensions))).convert(\"L\"), cmap='gray')\n",
    "\n",
    "def recover_tuning(method, name, alpha):\n",
    "    print(\"Recovering with\", name)\n",
    "    plt.figure()\n",
    "    corrupted_image_name = \"cor_585.png\"\n",
    "    print(\"recovering\", corrupted_image_name)\n",
    "    corrupted_image_path = corrupted_image_name\n",
    "    original_image_dimensions = np.asarray(PIL.Image.open(corrupted_image_path)).shape\n",
    "    reference_image_name = get_reference_image_name(corrupted_image_name)\n",
    "    reference_image = read_image_array('faces/' + reference_image_name)\n",
    "    reference_image_normalized = reference_image / 255.0 - np.mean(reference_image / 255.0)\n",
    "    corrupted_image = read_image_array(corrupted_image_path)\n",
    "    corrupted_image_normalized = corrupted_image / 255.0 - np.mean(corrupted_image / 255.0)\n",
    "    image_database = read_images()\n",
    "    model = method(image_database, corrupted_image_normalized, alpha)\n",
    "    recovered_image = np.dot(image_database, model)\n",
    "    recovered_image_restored = (np.dot(image_database, model) + np.mean(corrupted_image / 255.0)) * 255\n",
    "    return imshow(PIL.Image.fromarray(np.int32(recovered_image_restored.reshape(original_image_dimensions))).convert(\"L\"), cmap='gray')"
   ]
  },
  {
   "cell_type": "markdown",
   "metadata": {},
   "source": [
    "The code below will then save the restored images to the filesystem."
   ]
  },
  {
   "cell_type": "markdown",
   "metadata": {},
   "source": [
    "### 1"
   ]
  },
  {
   "cell_type": "code",
   "execution_count": 2,
   "metadata": {},
   "outputs": [
    {
     "name": "stdout",
     "output_type": "stream",
     "text": [
      "Recovering with OLS\n",
      "recovering cor_585.png\n",
      "1640\n"
     ]
    },
    {
     "data": {
      "text/plain": [
       "<matplotlib.image.AxesImage at 0x7f5a1b353358>"
      ]
     },
     "execution_count": 2,
     "metadata": {},
     "output_type": "execute_result"
    },
    {
     "data": {
      "image/png": "[encoded data removed]",
      "text/plain": [
       "<Figure size 432x288 with 1 Axes>"
      ]
     },
     "metadata": {},
     "output_type": "display_data"
    }
   ],
   "source": [
    "%matplotlib inline\n",
    "recover(ols, 'OLS')"
   ]
  },
  {
   "cell_type": "code",
   "execution_count": 3,
   "metadata": {},
   "outputs": [
    {
     "name": "stdout",
     "output_type": "stream",
     "text": [
      "Recovering with Ridge\n",
      "recovering cor_585.png\n"
     ]
    },
    {
     "data": {
      "text/plain": [
       "<matplotlib.image.AxesImage at 0x7f22b81d2240>"
      ]
     },
     "execution_count": 3,
     "metadata": {},
     "output_type": "execute_result"
    },
    {
     "data": {
      "image/png": "[encoded data removed]",
      "text/plain": [
       "<Figure size 432x288 with 1 Axes>"
      ]
     },
     "metadata": {},
     "output_type": "display_data"
    }
   ],
   "source": [
    "%matplotlib inline\n",
    "recover(ridge, 'Ridge')"
   ]
  },
  {
   "cell_type": "markdown",
   "metadata": {},
   "source": [
    "### 2"
   ]
  },
  {
   "cell_type": "code",
   "execution_count": 6,
   "metadata": {},
   "outputs": [
    {
     "name": "stdout",
     "output_type": "stream",
     "text": [
      "Recovering with Ridge\n",
      "recovering cor_585.png\n"
     ]
    },
    {
     "data": {
      "text/plain": [
       "<Figure size 432x288 with 0 Axes>"
      ]
     },
     "metadata": {},
     "output_type": "display_data"
    },
    {
     "data": {
      "image/png": "[encoded data removed]",
      "text/plain": [
       "<Figure size 432x288 with 1 Axes>"
      ]
     },
     "metadata": {},
     "output_type": "display_data"
    },
    {
     "name": "stdout",
     "output_type": "stream",
     "text": [
      "Recovering with Ridge\n",
      "recovering cor_585.png\n"
     ]
    },
    {
     "data": {
      "text/plain": [
       "<Figure size 432x288 with 0 Axes>"
      ]
     },
     "metadata": {},
     "output_type": "display_data"
    },
    {
     "data": {
      "image/png": "[encoded data removed]",
      "text/plain": [
       "<Figure size 432x288 with 1 Axes>"
      ]
     },
     "metadata": {},
     "output_type": "display_data"
    },
    {
     "name": "stdout",
     "output_type": "stream",
     "text": [
      "Recovering with Ridge\n",
      "recovering cor_585.png\n"
     ]
    },
    {
     "data": {
      "text/plain": [
       "<Figure size 432x288 with 0 Axes>"
      ]
     },
     "metadata": {},
     "output_type": "display_data"
    },
    {
     "data": {
      "image/png": "[encoded data removed]",
      "text/plain": [
       "<Figure size 432x288 with 1 Axes>"
      ]
     },
     "metadata": {},
     "output_type": "display_data"
    },
    {
     "name": "stdout",
     "output_type": "stream",
     "text": [
      "Recovering with Ridge\n",
      "recovering cor_585.png\n"
     ]
    },
    {
     "data": {
      "text/plain": [
       "<Figure size 432x288 with 0 Axes>"
      ]
     },
     "metadata": {},
     "output_type": "display_data"
    },
    {
     "data": {
      "image/png": "[encoded data removed]",
      "text/plain": [
       "<Figure size 432x288 with 1 Axes>"
      ]
     },
     "metadata": {},
     "output_type": "display_data"
    },
    {
     "name": "stdout",
     "output_type": "stream",
     "text": [
      "Recovering with Ridge\n",
      "recovering cor_585.png\n"
     ]
    },
    {
     "data": {
      "text/plain": [
       "<Figure size 432x288 with 0 Axes>"
      ]
     },
     "metadata": {},
     "output_type": "display_data"
    },
    {
     "data": {
      "image/png": "[encoded data removed]",
      "text/plain": [
       "<Figure size 432x288 with 1 Axes>"
      ]
     },
     "metadata": {},
     "output_type": "display_data"
    },
    {
     "name": "stdout",
     "output_type": "stream",
     "text": [
      "Recovering with Ridge\n",
      "recovering cor_585.png\n"
     ]
    },
    {
     "data": {
      "text/plain": [
       "<Figure size 432x288 with 0 Axes>"
      ]
     },
     "metadata": {},
     "output_type": "display_data"
    },
    {
     "data": {
      "image/png": "[encoded data removed]",
      "text/plain": [
       "<Figure size 432x288 with 1 Axes>"
      ]
     },
     "metadata": {},
     "output_type": "display_data"
    },
    {
     "name": "stdout",
     "output_type": "stream",
     "text": [
      "Recovering with Ridge\n",
      "recovering cor_585.png\n"
     ]
    },
    {
     "data": {
      "text/plain": [
       "<Figure size 432x288 with 0 Axes>"
      ]
     },
     "metadata": {},
     "output_type": "display_data"
    },
    {
     "data": {
      "image/png": "[encoded data removed]",
      "text/plain": [
       "<Figure size 432x288 with 1 Axes>"
      ]
     },
     "metadata": {},
     "output_type": "display_data"
    },
    {
     "name": "stdout",
     "output_type": "stream",
     "text": [
      "Recovering with Ridge\n",
      "recovering cor_585.png\n"
     ]
    },
    {
     "data": {
      "text/plain": [
       "<Figure size 432x288 with 0 Axes>"
      ]
     },
     "metadata": {},
     "output_type": "display_data"
    },
    {
     "data": {
      "image/png": "[encoded data removed]",
      "text/plain": [
       "<Figure size 432x288 with 1 Axes>"
      ]
     },
     "metadata": {},
     "output_type": "display_data"
    },
    {
     "name": "stdout",
     "output_type": "stream",
     "text": [
      "Recovering with Ridge\n",
      "recovering cor_585.png\n"
     ]
    },
    {
     "data": {
      "text/plain": [
       "<Figure size 432x288 with 0 Axes>"
      ]
     },
     "metadata": {},
     "output_type": "display_data"
    },
    {
     "data": {
      "image/png": "[encoded data removed]",
      "text/plain": [
       "<Figure size 432x288 with 1 Axes>"
      ]
     },
     "metadata": {},
     "output_type": "display_data"
    },
    {
     "name": "stdout",
     "output_type": "stream",
     "text": [
      "Recovering with Ridge\n",
      "recovering cor_585.png\n"
     ]
    },
    {
     "data": {
      "text/plain": [
       "<Figure size 432x288 with 0 Axes>"
      ]
     },
     "metadata": {},
     "output_type": "display_data"
    },
    {
     "data": {
      "image/png": "[encoded data removed]",
      "text/plain": [
       "<Figure size 432x288 with 1 Axes>"
      ]
     },
     "metadata": {},
     "output_type": "display_data"
    }
   ],
   "source": [
    "for param in range(0, 500, 50):\n",
    "    %matplotlib inline\n",
    "    plt.figure()\n",
    "    recover_tuning(ridge2, 'Ridge', param)\n",
    "    plt.show()\n",
    "    "
   ]
  },
  {
   "cell_type": "markdown",
   "metadata": {},
   "source": [
    "### 3"
   ]
  },
  {
   "cell_type": "markdown",
   "metadata": {},
   "source": [
    "From the answers above, it is easy to find that ridge performs better than ols when the regularization coefficients of ridge is set to a proper value. With no regularization, the model tries to reproduce the corrupted image as accurately as possible, and thus it is expected that we got an image almost the same as the corrupted one. We can regard it as over-fitting in regular regression. However, with regularization (ridge), coefficients won't be too large, which means it tries to avoid over-fitting. In this case, the model tries to reduce the error of gray-scale values between each pair of pixels as much as possible. Since the corrupted part isn't too big, the model may tend to sacrifice that part and thus we can get a better recovered image."
   ]
  },
  {
   "cell_type": "markdown",
   "metadata": {
    "ein.tags": "worksheet-0",
    "slideshow": {
     "slide_type": "-"
    }
   },
   "source": [
    "# Question 5: (5 pts)\n",
    "What are two properties of Naïve Bayes that make it so suitable for parallel/distributed computation and for analyzing \"streaming\" data (e.g. each document is processed only once and need not be further stored or revisited)? (5 pts)"
   ]
  },
  {
   "cell_type": "markdown",
   "metadata": {
    "ein.tags": "worksheet-0",
    "slideshow": {
     "slide_type": "-"
    }
   },
   "source": [
    "# Answer"
   ]
  },
  {
   "cell_type": "markdown",
   "metadata": {},
   "source": [
    "+ Independent properties. Naive bayes network holds the assumption that the conditional probability could be split down and does not need wait until the all the previous term finalized the answer. Under this circumstances, the probability computation and be split, calculated and finally return the answer.\n",
    "+ since the bayes network could calculate the probility by parts, sum together and don't need to re-compute each time, in that sense, we can deal with streaming data well."
   ]
  }
 ],
 "metadata": {
  "kernelspec": {
   "display_name": "Python 3",
   "language": "python",
   "name": "python3"
  },
  "language_info": {
   "codemirror_mode": {
    "name": "ipython",
    "version": 3
   },
   "file_extension": ".py",
   "mimetype": "text/x-python",
   "name": "python",
   "nbconvert_exporter": "python",
   "pygments_lexer": "ipython3",
   "version": "3.6.4"
  },
  "name": "HW4-S18Sol.ipynb"
 },
 "nbformat": 4,
 "nbformat_minor": 1
}
